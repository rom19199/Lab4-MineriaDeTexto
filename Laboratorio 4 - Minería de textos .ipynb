{
 "cells": [
  {
   "cell_type": "markdown",
   "source": "# Lab 4 - Minería de texto",
   "metadata": {
    "formattedRanges": [],
    "is_collapsed": false,
    "cell_id": "f9bea3ade79f4a7ca6d5490107846da6",
    "tags": [],
    "deepnote_cell_type": "text-cell-h1"
   }
  },
  {
   "cell_type": "code",
   "metadata": {
    "tags": [],
    "cell_id": "3ec20f55-ffc0-4a0c-a774-f6406c1bf7d8",
    "deepnote_to_be_reexecuted": false,
    "source_hash": "6ef26e90",
    "execution_start": 1662134862642,
    "execution_millis": 20309,
    "deepnote_cell_type": "code",
    "deepnote_cell_height": 708.21875
   },
   "source": "#Librerías\nimport pandas as pd\nimport preprocessor as p\nimport re\nimport nltk\nimport string \nimport seaborn as sns\nfrom matplotlib import pyplot as plt\nfrom nltk.corpus import stopwords\nfrom nltk.tokenize import word_tokenize  \nfrom nltk.stem.porter import PorterStemmer\nfrom nltk.stem import WordNetLemmatizer\nfrom nltk import FreqDist\nfrom sklearn.feature_extraction.text import CountVectorizer\nfrom keras.preprocessing.text import Tokenizer\nfrom transformers import AutoTokenizer,TFBertModel\nimport numpy as np\nimport tensorflow as tf\nfrom tensorflow.keras.losses import CategoricalCrossentropy,BinaryCrossentropy\nfrom tensorflow.keras.metrics import CategoricalAccuracy,BinaryAccuracy\nfrom sklearn.model_selection import train_test_split\nfrom sklearn.linear_model import LogisticRegression\nfrom sklearn.naive_bayes import MultinomialNB\nfrom sklearn.metrics import classification_report, f1_score, accuracy_score, confusion_matrix\nfrom sklearn.metrics import roc_curve, auc, roc_auc_score\nfrom tensorflow.keras.optimizers import Adam\nfrom sklearn.feature_extraction.text import TfidfVectorizer\nfrom sklearn.feature_extraction.text import CountVectorizer\nfrom tensorflow.keras.layers import Input, Dense\nimport gensim\nfrom gensim.models import Word2Vec",
   "execution_count": 1,
   "outputs": [
    {
     "name": "stderr",
     "text": "2022-09-02 16:07:48.947145: W tensorflow/stream_executor/platform/default/dso_loader.cc:64] Could not load dynamic library 'libcudart.so.11.0'; dlerror: libcudart.so.11.0: cannot open shared object file: No such file or directory\n2022-09-02 16:07:48.947336: I tensorflow/stream_executor/cuda/cudart_stub.cc:29] Ignore above cudart dlerror if you do not have a GPU set up on your machine.\n/shared-libs/python3.9/py/lib/python3.9/site-packages/tqdm/auto.py:22: TqdmWarning: IProgress not found. Please update jupyter and ipywidgets. See https://ipywidgets.readthedocs.io/en/stable/user_install.html\n  from .autonotebook import tqdm as notebook_tqdm\n",
     "output_type": "stream"
    }
   ]
  },
  {
   "cell_type": "code",
   "source": "train = pd.read_csv('train.csv',encoding = \"ISO-8859-1\")\ntest_data = pd.read_csv('train.csv',encoding = \"ISO-8859-1\")",
   "metadata": {
    "cell_id": "27c9de659b504ead9e85cdcb1570b5ed",
    "tags": [],
    "deepnote_to_be_reexecuted": false,
    "source_hash": "758773be",
    "execution_start": 1662134882954,
    "execution_millis": 64,
    "deepnote_cell_type": "code",
    "deepnote_cell_height": 94
   },
   "execution_count": 2,
   "outputs": []
  },
  {
   "cell_type": "markdown",
   "source": "## Análisis exploratorio",
   "metadata": {
    "formattedRanges": [],
    "is_collapsed": false,
    "cell_id": "f54e039603314cf1a9dc4aa470717493",
    "tags": [],
    "deepnote_cell_type": "text-cell-h2"
   }
  },
  {
   "cell_type": "code",
   "metadata": {
    "cell_id": "0a86b85295974916865890c56518f6e6",
    "tags": [],
    "deepnote_to_be_reexecuted": false,
    "source_hash": "c2ad303d",
    "execution_start": 1662134883071,
    "execution_millis": 4,
    "deepnote_cell_type": "code",
    "deepnote_cell_height": 208.140625,
    "deepnote_output_heights": [
     116.15625
    ]
   },
   "source": "train['text'].head()",
   "execution_count": 3,
   "outputs": [
    {
     "output_type": "execute_result",
     "execution_count": 3,
     "data": {
      "text/plain": "0    Our Deeds are the Reason of this #earthquake M...\n1               Forest fire near La Ronge Sask. Canada\n2    All residents asked to 'shelter in place' are ...\n3    13,000 people receive #wildfires evacuation or...\n4    Just got sent this photo from Ruby #Alaska as ...\nName: text, dtype: object"
     },
     "metadata": {}
    }
   ]
  },
  {
   "cell_type": "code",
   "metadata": {
    "cell_id": "d6b6d4ee95694572b1ff743f2d24a06c",
    "tags": [],
    "deepnote_to_be_reexecuted": false,
    "source_hash": "993ab2a5",
    "execution_start": 1662134883072,
    "execution_millis": 43,
    "deepnote_cell_type": "code",
    "deepnote_cell_height": 208.140625,
    "deepnote_output_heights": [
     116.15625
    ]
   },
   "source": "train.isna().sum()",
   "execution_count": 4,
   "outputs": [
    {
     "output_type": "execute_result",
     "execution_count": 4,
     "data": {
      "text/plain": "id             0\nkeyword       61\nlocation    2533\ntext           0\ntarget         0\ndtype: int64"
     },
     "metadata": {}
    }
   ]
  },
  {
   "cell_type": "code",
   "metadata": {
    "cell_id": "27420c1aefb24a90959f6f492ed8b118",
    "tags": [],
    "deepnote_to_be_reexecuted": false,
    "source_hash": "2221debc",
    "execution_start": 1662134883114,
    "execution_millis": 257,
    "deepnote_cell_type": "code",
    "deepnote_cell_height": 554.59375,
    "deepnote_output_heights": [
     null,
     20.1875,
     249
    ]
   },
   "source": "x=train['target'].value_counts()\nprint(x)\nsns.barplot(x.index,x)",
   "execution_count": 5,
   "outputs": [
    {
     "name": "stdout",
     "text": "0    4342\n1    3271\nName: target, dtype: int64\n/shared-libs/python3.9/py/lib/python3.9/site-packages/seaborn/_decorators.py:36: FutureWarning: Pass the following variables as keyword args: x, y. From version 0.12, the only valid positional argument will be `data`, and passing other arguments without an explicit keyword will result in an error or misinterpretation.\n  warnings.warn(\n",
     "output_type": "stream"
    },
    {
     "output_type": "execute_result",
     "execution_count": 5,
     "data": {
      "text/plain": "<AxesSubplot:ylabel='target'>"
     },
     "metadata": {}
    },
    {
     "data": {
      "text/plain": "<Figure size 432x288 with 1 Axes>",
      "image/png": "[encoded data removed]"
     },
     "metadata": {
      "needs_background": "light",
      "image/png": {
       "width": 395,
       "height": 248
      }
     },
     "output_type": "display_data"
    }
   ]
  },
  {
   "cell_type": "code",
   "metadata": {
    "cell_id": "36b8a1a619344f07b06240710b6b9008",
    "tags": [],
    "deepnote_to_be_reexecuted": false,
    "source_hash": "79db539c",
    "execution_start": 1662134883368,
    "execution_millis": 0,
    "deepnote_cell_type": "code",
    "deepnote_cell_height": 94
   },
   "source": "train = train.dropna()\ntrain = train.drop_duplicates()",
   "execution_count": 6,
   "outputs": []
  },
  {
   "cell_type": "code",
   "metadata": {
    "cell_id": "0c4cf9b543234486b121aca4f392e502",
    "tags": [],
    "deepnote_to_be_reexecuted": false,
    "source_hash": "a6b550b1",
    "execution_start": 1662134883372,
    "execution_millis": 355,
    "deepnote_cell_type": "code",
    "deepnote_cell_height": 550,
    "deepnote_output_heights": [
     278
    ]
   },
   "source": "train['word_count'] = train['text'].apply(lambda x: len(str(x).split()))\n\nfig,(ax1,ax2)=plt.subplots(1,2,figsize=(10,4))\ntrain_words=train[train['target']==1]['word_count']\nax1.hist(train_words,color='blue')\nax1.set_title('Disaster tweets')\ntrain_words=train[train['target']==0]['word_count']\nax2.hist(train_words,color='yellow')\nax2.set_title('Non-disaster tweets')\nfig.suptitle('Words per tweet')\nplt.show()",
   "execution_count": 7,
   "outputs": [
    {
     "data": {
      "text/plain": "<Figure size 720x288 with 2 Axes>",
      "image/png": "[encoded data removed]"
     },
     "metadata": {
      "needs_background": "light",
      "image/png": {
       "width": 598,
       "height": 277
      }
     },
     "output_type": "display_data"
    }
   ]
  },
  {
   "cell_type": "code",
   "metadata": {
    "cell_id": "1ad6b22f2e3b48d298c59fa4c8609bd8",
    "tags": [],
    "deepnote_to_be_reexecuted": false,
    "source_hash": "e1f0b45",
    "execution_start": 1662134883746,
    "execution_millis": 24,
    "deepnote_cell_type": "code",
    "deepnote_cell_height": 390
   },
   "source": "train.head()",
   "execution_count": 8,
   "outputs": [
    {
     "output_type": "execute_result",
     "execution_count": 8,
     "data": {
      "application/vnd.deepnote.dataframe.v3+json": {
       "column_count": 6,
       "row_count": 5,
       "columns": [
        {
         "name": "id",
         "dtype": "int64",
         "stats": {
          "unique_count": 5,
          "nan_count": 0,
          "min": "48",
          "max": "53",
          "histogram": [
           {
            "bin_start": 48,
            "bin_end": 48.5,
            "count": 1
           },
           {
            "bin_start": 48.5,
            "bin_end": 49,
            "count": 0
           },
           {
            "bin_start": 49,
            "bin_end": 49.5,
            "count": 1
           },
           {
            "bin_start": 49.5,
            "bin_end": 50,
            "count": 0
           },
           {
            "bin_start": 50,
            "bin_end": 50.5,
            "count": 1
           },
           {
            "bin_start": 50.5,
            "bin_end": 51,
            "count": 0
           },
           {
            "bin_start": 51,
            "bin_end": 51.5,
            "count": 0
           },
           {
            "bin_start": 51.5,
            "bin_end": 52,
            "count": 0
           },
           {
            "bin_start": 52,
            "bin_end": 52.5,
            "count": 1
           },
           {
            "bin_start": 52.5,
            "bin_end": 53,
            "count": 1
           }
          ]
         }
        },
        {
         "name": "keyword",
         "dtype": "object",
         "stats": {
          "unique_count": 1,
          "nan_count": 0,
          "categories": [
           {
            "name": "ablaze",
            "count": 5
           }
          ]
         }
        },
        {
         "name": "location",
         "dtype": "object",
         "stats": {
          "unique_count": 5,
          "nan_count": 0,
          "categories": [
           {
            "name": "Birmingham",
            "count": 1
           },
           {
            "name": "Est. September 2012 - Bristol",
            "count": 1
           },
           {
            "name": "3 others",
            "count": 3
           }
          ]
         }
        },
        {
         "name": "text",
         "dtype": "object",
         "stats": {
          "unique_count": 5,
          "nan_count": 0,
          "categories": [
           {
            "name": "@bbcmtd Wholesale Markets ablaze http://t.co/lHYXEOHY6C",
            "count": 1
           },
           {
            "name": "We always try to bring the heavy. #metal #RT http://t.co/YAo1e0xngw",
            "count": 1
           },
           {
            "name": "3 others",
            "count": 3
           }
          ]
         }
        },
        {
         "name": "target",
         "dtype": "int64",
         "stats": {
          "unique_count": 2,
          "nan_count": 0,
          "min": "0",
          "max": "1",
          "histogram": [
           {
            "bin_start": 0,
            "bin_end": 0.1,
            "count": 3
           },
           {
            "bin_start": 0.1,
            "bin_end": 0.2,
            "count": 0
           },
           {
            "bin_start": 0.2,
            "bin_end": 0.30000000000000004,
            "count": 0
           },
           {
            "bin_start": 0.30000000000000004,
            "bin_end": 0.4,
            "count": 0
           },
           {
            "bin_start": 0.4,
            "bin_end": 0.5,
            "count": 0
           },
           {
            "bin_start": 0.5,
            "bin_end": 0.6000000000000001,
            "count": 0
           },
           {
            "bin_start": 0.6000000000000001,
            "bin_end": 0.7000000000000001,
            "count": 0
           },
           {
            "bin_start": 0.7000000000000001,
            "bin_end": 0.8,
            "count": 0
           },
           {
            "bin_start": 0.8,
            "bin_end": 0.9,
            "count": 0
           },
           {
            "bin_start": 0.9,
            "bin_end": 1,
            "count": 2
           }
          ]
         }
        },
        {
         "name": "word_count",
         "dtype": "int64",
         "stats": {
          "unique_count": 5,
          "nan_count": 0,
          "min": "5",
          "max": "13",
          "histogram": [
           {
            "bin_start": 5,
            "bin_end": 5.8,
            "count": 1
           },
           {
            "bin_start": 5.8,
            "bin_end": 6.6,
            "count": 0
           },
           {
            "bin_start": 6.6,
            "bin_end": 7.4,
            "count": 1
           },
           {
            "bin_start": 7.4,
            "bin_end": 8.2,
            "count": 0
           },
           {
            "bin_start": 8.2,
            "bin_end": 9,
            "count": 0
           },
           {
            "bin_start": 9,
            "bin_end": 9.8,
            "count": 1
           },
           {
            "bin_start": 9.8,
            "bin_end": 10.600000000000001,
            "count": 1
           },
           {
            "bin_start": 10.600000000000001,
            "bin_end": 11.4,
            "count": 0
           },
           {
            "bin_start": 11.4,
            "bin_end": 12.2,
            "count": 0
           },
           {
            "bin_start": 12.2,
            "bin_end": 13,
            "count": 1
           }
          ]
         }
        },
        {
         "name": "_deepnote_index_column",
         "dtype": "int64"
        }
       ],
       "rows": [
        {
         "id": "48",
         "keyword": "ablaze",
         "location": "Birmingham",
         "text": "@bbcmtd Wholesale Markets ablaze http://t.co/lHYXEOHY6C",
         "target": "1",
         "word_count": "5",
         "_deepnote_index_column": "31"
        },
        {
         "id": "49",
         "keyword": "ablaze",
         "location": "Est. September 2012 - Bristol",
         "text": "We always try to bring the heavy. #metal #RT http://t.co/YAo1e0xngw",
         "target": "0",
         "word_count": "10",
         "_deepnote_index_column": "32"
        },
        {
         "id": "50",
         "keyword": "ablaze",
         "location": "AFRICA",
         "text": "#AFRICANBAZE: Breaking news:Nigeria flag set ablaze in Aba. http://t.co/2nndBGwyEi",
         "target": "1",
         "word_count": "9",
         "_deepnote_index_column": "33"
        },
        {
         "id": "52",
         "keyword": "ablaze",
         "location": "Philadelphia, PA",
         "text": "Crying out for more! Set me ablaze",
         "target": "0",
         "word_count": "7",
         "_deepnote_index_column": "34"
        },
        {
         "id": "53",
         "keyword": "ablaze",
         "location": "London, UK",
         "text": "On plus side LOOK AT THE SKY LAST NIGHT IT WAS ABLAZE http://t.co/qqsmshaJ3N",
         "target": "0",
         "word_count": "13",
         "_deepnote_index_column": "35"
        }
       ]
      },
      "text/plain": "    id keyword                       location  \\\n31  48  ablaze                     Birmingham   \n32  49  ablaze  Est. September 2012 - Bristol   \n33  50  ablaze                         AFRICA   \n34  52  ablaze               Philadelphia, PA   \n35  53  ablaze                     London, UK   \n\n                                                 text  target  word_count  \n31  @bbcmtd Wholesale Markets ablaze http://t.co/l...       1           5  \n32  We always try to bring the heavy. #metal #RT h...       0          10  \n33  #AFRICANBAZE: Breaking news:Nigeria flag set a...       1           9  \n34                 Crying out for more! Set me ablaze       0           7  \n35  On plus side LOOK AT THE SKY LAST NIGHT IT WAS...       0          13  ",
      "text/html": "<div>\n<style scoped>\n    .dataframe tbody tr th:only-of-type {\n        vertical-align: middle;\n    }\n\n    .dataframe tbody tr th {\n        vertical-align: top;\n    }\n\n    .dataframe thead th {\n        text-align: right;\n    }\n</style>\n<table border=\"1\" class=\"dataframe\">\n  <thead>\n    <tr style=\"text-align: right;\">\n      <th></th>\n      <th>id</th>\n      <th>keyword</th>\n      <th>location</th>\n      <th>text</th>\n      <th>target</th>\n      <th>word_count</th>\n    </tr>\n  </thead>\n  <tbody>\n    <tr>\n      <th>31</th>\n      <td>48</td>\n      <td>ablaze</td>\n      <td>Birmingham</td>\n      <td>@bbcmtd Wholesale Markets ablaze http://t.co/l...</td>\n      <td>1</td>\n      <td>5</td>\n    </tr>\n    <tr>\n      <th>32</th>\n      <td>49</td>\n      <td>ablaze</td>\n      <td>Est. September 2012 - Bristol</td>\n      <td>We always try to bring the heavy. #metal #RT h...</td>\n      <td>0</td>\n      <td>10</td>\n    </tr>\n    <tr>\n      <th>33</th>\n      <td>50</td>\n      <td>ablaze</td>\n      <td>AFRICA</td>\n      <td>#AFRICANBAZE: Breaking news:Nigeria flag set a...</td>\n      <td>1</td>\n      <td>9</td>\n    </tr>\n    <tr>\n      <th>34</th>\n      <td>52</td>\n      <td>ablaze</td>\n      <td>Philadelphia, PA</td>\n      <td>Crying out for more! Set me ablaze</td>\n      <td>0</td>\n      <td>7</td>\n    </tr>\n    <tr>\n      <th>35</th>\n      <td>53</td>\n      <td>ablaze</td>\n      <td>London, UK</td>\n      <td>On plus side LOOK AT THE SKY LAST NIGHT IT WAS...</td>\n      <td>0</td>\n      <td>13</td>\n    </tr>\n  </tbody>\n</table>\n</div>"
     },
     "metadata": {}
    }
   ]
  },
  {
   "cell_type": "code",
   "metadata": {
    "cell_id": "e5ed2b2ec14b4fc18741566101247b90",
    "tags": [],
    "deepnote_to_be_reexecuted": false,
    "source_hash": "8306bde4",
    "execution_start": 1662134883780,
    "execution_millis": 4,
    "deepnote_cell_type": "code",
    "deepnote_cell_height": 112.171875,
    "deepnote_output_heights": [
     20.1875
    ]
   },
   "source": "train.text[train.text.str.contains('911')].count()",
   "execution_count": 9,
   "outputs": [
    {
     "output_type": "execute_result",
     "execution_count": 9,
     "data": {
      "text/plain": "10"
     },
     "metadata": {}
    }
   ]
  },
  {
   "cell_type": "code",
   "metadata": {
    "cell_id": "e967f9d599194dd5be30eb816cfa3789",
    "tags": [],
    "deepnote_to_be_reexecuted": false,
    "source_hash": "3d984e00",
    "execution_start": 1662134883803,
    "execution_millis": 452,
    "deepnote_cell_type": "code",
    "deepnote_cell_height": 400
   },
   "source": "punct = set(string.punctuation) \n\ndef preprocess_tweet(row):\n    text = row['text']\n    #Removing unicodes\n    text = text.encode(encoding=\"ascii\", errors=\"ignore\")\n    text = text.decode()\n    text = \" \".join([word for word in text.split()])\n    #Removing URLs, Hashtags, Punctuation, Mentions, etc.\n    text = re.sub(\"@\\S+\", \"\", text)\n    text = re.sub(\"\\$\", \"\", text)\n    text = re.sub(\"https?:\\/\\/.*[\\r\\n]*\", \"\", text)\n    text = re.sub(\"#\", \"\", text)\n    text = \"\".join([ch for ch in text if ch not in punct])\n    if '911' not in text:\n        text = ''.join([i for i in text if not i.isdigit()])\n    return text\n    \ntrain['text'] = train.apply(preprocess_tweet, axis=1)",
   "execution_count": 10,
   "outputs": []
  },
  {
   "cell_type": "code",
   "metadata": {
    "cell_id": "87edb7dd340b42f99d5fe96b27bfbff4",
    "tags": [],
    "deepnote_to_be_reexecuted": false,
    "source_hash": "8306bde4",
    "execution_start": 1662134884331,
    "execution_millis": 2575785,
    "deepnote_cell_type": "code",
    "deepnote_cell_height": 112.171875,
    "deepnote_output_heights": [
     20.1875
    ]
   },
   "source": "train.text[train.text.str.contains('911')].count()",
   "execution_count": 11,
   "outputs": [
    {
     "output_type": "execute_result",
     "execution_count": 11,
     "data": {
      "text/plain": "10"
     },
     "metadata": {}
    }
   ]
  },
  {
   "cell_type": "code",
   "metadata": {
    "cell_id": "fcae6bc048cf4f0f99e84c75766db8e2",
    "tags": [],
    "deepnote_to_be_reexecuted": false,
    "source_hash": "1febcce2",
    "execution_start": 1662134884332,
    "execution_millis": 45,
    "deepnote_cell_type": "code",
    "deepnote_cell_height": 408
   },
   "source": "train.head()\n",
   "execution_count": 12,
   "outputs": [
    {
     "output_type": "execute_result",
     "execution_count": 12,
     "data": {
      "application/vnd.deepnote.dataframe.v3+json": {
       "column_count": 6,
       "row_count": 5,
       "columns": [
        {
         "name": "id",
         "dtype": "int64",
         "stats": {
          "unique_count": 5,
          "nan_count": 0,
          "min": "48",
          "max": "53",
          "histogram": [
           {
            "bin_start": 48,
            "bin_end": 48.5,
            "count": 1
           },
           {
            "bin_start": 48.5,
            "bin_end": 49,
            "count": 0
           },
           {
            "bin_start": 49,
            "bin_end": 49.5,
            "count": 1
           },
           {
            "bin_start": 49.5,
            "bin_end": 50,
            "count": 0
           },
           {
            "bin_start": 50,
            "bin_end": 50.5,
            "count": 1
           },
           {
            "bin_start": 50.5,
            "bin_end": 51,
            "count": 0
           },
           {
            "bin_start": 51,
            "bin_end": 51.5,
            "count": 0
           },
           {
            "bin_start": 51.5,
            "bin_end": 52,
            "count": 0
           },
           {
            "bin_start": 52,
            "bin_end": 52.5,
            "count": 1
           },
           {
            "bin_start": 52.5,
            "bin_end": 53,
            "count": 1
           }
          ]
         }
        },
        {
         "name": "keyword",
         "dtype": "object",
         "stats": {
          "unique_count": 1,
          "nan_count": 0,
          "categories": [
           {
            "name": "ablaze",
            "count": 5
           }
          ]
         }
        },
        {
         "name": "location",
         "dtype": "object",
         "stats": {
          "unique_count": 5,
          "nan_count": 0,
          "categories": [
           {
            "name": "Birmingham",
            "count": 1
           },
           {
            "name": "Est. September 2012 - Bristol",
            "count": 1
           },
           {
            "name": "3 others",
            "count": 3
           }
          ]
         }
        },
        {
         "name": "text",
         "dtype": "object",
         "stats": {
          "unique_count": 5,
          "nan_count": 0,
          "categories": [
           {
            "name": " Wholesale Markets ablaze ",
            "count": 1
           },
           {
            "name": "We always try to bring the heavy metal RT ",
            "count": 1
           },
           {
            "name": "3 others",
            "count": 3
           }
          ]
         }
        },
        {
         "name": "target",
         "dtype": "int64",
         "stats": {
          "unique_count": 2,
          "nan_count": 0,
          "min": "0",
          "max": "1",
          "histogram": [
           {
            "bin_start": 0,
            "bin_end": 0.1,
            "count": 3
           },
           {
            "bin_start": 0.1,
            "bin_end": 0.2,
            "count": 0
           },
           {
            "bin_start": 0.2,
            "bin_end": 0.30000000000000004,
            "count": 0
           },
           {
            "bin_start": 0.30000000000000004,
            "bin_end": 0.4,
            "count": 0
           },
           {
            "bin_start": 0.4,
            "bin_end": 0.5,
            "count": 0
           },
           {
            "bin_start": 0.5,
            "bin_end": 0.6000000000000001,
            "count": 0
           },
           {
            "bin_start": 0.6000000000000001,
            "bin_end": 0.7000000000000001,
            "count": 0
           },
           {
            "bin_start": 0.7000000000000001,
            "bin_end": 0.8,
            "count": 0
           },
           {
            "bin_start": 0.8,
            "bin_end": 0.9,
            "count": 0
           },
           {
            "bin_start": 0.9,
            "bin_end": 1,
            "count": 2
           }
          ]
         }
        },
        {
         "name": "word_count",
         "dtype": "int64",
         "stats": {
          "unique_count": 5,
          "nan_count": 0,
          "min": "5",
          "max": "13",
          "histogram": [
           {
            "bin_start": 5,
            "bin_end": 5.8,
            "count": 1
           },
           {
            "bin_start": 5.8,
            "bin_end": 6.6,
            "count": 0
           },
           {
            "bin_start": 6.6,
            "bin_end": 7.4,
            "count": 1
           },
           {
            "bin_start": 7.4,
            "bin_end": 8.2,
            "count": 0
           },
           {
            "bin_start": 8.2,
            "bin_end": 9,
            "count": 0
           },
           {
            "bin_start": 9,
            "bin_end": 9.8,
            "count": 1
           },
           {
            "bin_start": 9.8,
            "bin_end": 10.600000000000001,
            "count": 1
           },
           {
            "bin_start": 10.600000000000001,
            "bin_end": 11.4,
            "count": 0
           },
           {
            "bin_start": 11.4,
            "bin_end": 12.2,
            "count": 0
           },
           {
            "bin_start": 12.2,
            "bin_end": 13,
            "count": 1
           }
          ]
         }
        },
        {
         "name": "_deepnote_index_column",
         "dtype": "int64"
        }
       ],
       "rows": [
        {
         "id": "48",
         "keyword": "ablaze",
         "location": "Birmingham",
         "text": " Wholesale Markets ablaze ",
         "target": "1",
         "word_count": "5",
         "_deepnote_index_column": "31"
        },
        {
         "id": "49",
         "keyword": "ablaze",
         "location": "Est. September 2012 - Bristol",
         "text": "We always try to bring the heavy metal RT ",
         "target": "0",
         "word_count": "10",
         "_deepnote_index_column": "32"
        },
        {
         "id": "50",
         "keyword": "ablaze",
         "location": "AFRICA",
         "text": "AFRICANBAZE Breaking newsNigeria flag set ablaze in Aba ",
         "target": "1",
         "word_count": "9",
         "_deepnote_index_column": "33"
        },
        {
         "id": "52",
         "keyword": "ablaze",
         "location": "Philadelphia, PA",
         "text": "Crying out for more Set me ablaze",
         "target": "0",
         "word_count": "7",
         "_deepnote_index_column": "34"
        },
        {
         "id": "53",
         "keyword": "ablaze",
         "location": "London, UK",
         "text": "On plus side LOOK AT THE SKY LAST NIGHT IT WAS ABLAZE ",
         "target": "0",
         "word_count": "13",
         "_deepnote_index_column": "35"
        }
       ]
      },
      "text/plain": "    id keyword                       location  \\\n31  48  ablaze                     Birmingham   \n32  49  ablaze  Est. September 2012 - Bristol   \n33  50  ablaze                         AFRICA   \n34  52  ablaze               Philadelphia, PA   \n35  53  ablaze                     London, UK   \n\n                                                 text  target  word_count  \n31                          Wholesale Markets ablaze        1           5  \n32         We always try to bring the heavy metal RT        0          10  \n33  AFRICANBAZE Breaking newsNigeria flag set abla...       1           9  \n34                  Crying out for more Set me ablaze       0           7  \n35  On plus side LOOK AT THE SKY LAST NIGHT IT WAS...       0          13  ",
      "text/html": "<div>\n<style scoped>\n    .dataframe tbody tr th:only-of-type {\n        vertical-align: middle;\n    }\n\n    .dataframe tbody tr th {\n        vertical-align: top;\n    }\n\n    .dataframe thead th {\n        text-align: right;\n    }\n</style>\n<table border=\"1\" class=\"dataframe\">\n  <thead>\n    <tr style=\"text-align: right;\">\n      <th></th>\n      <th>id</th>\n      <th>keyword</th>\n      <th>location</th>\n      <th>text</th>\n      <th>target</th>\n      <th>word_count</th>\n    </tr>\n  </thead>\n  <tbody>\n    <tr>\n      <th>31</th>\n      <td>48</td>\n      <td>ablaze</td>\n      <td>Birmingham</td>\n      <td>Wholesale Markets ablaze</td>\n      <td>1</td>\n      <td>5</td>\n    </tr>\n    <tr>\n      <th>32</th>\n      <td>49</td>\n      <td>ablaze</td>\n      <td>Est. September 2012 - Bristol</td>\n      <td>We always try to bring the heavy metal RT</td>\n      <td>0</td>\n      <td>10</td>\n    </tr>\n    <tr>\n      <th>33</th>\n      <td>50</td>\n      <td>ablaze</td>\n      <td>AFRICA</td>\n      <td>AFRICANBAZE Breaking newsNigeria flag set abla...</td>\n      <td>1</td>\n      <td>9</td>\n    </tr>\n    <tr>\n      <th>34</th>\n      <td>52</td>\n      <td>ablaze</td>\n      <td>Philadelphia, PA</td>\n      <td>Crying out for more Set me ablaze</td>\n      <td>0</td>\n      <td>7</td>\n    </tr>\n    <tr>\n      <th>35</th>\n      <td>53</td>\n      <td>ablaze</td>\n      <td>London, UK</td>\n      <td>On plus side LOOK AT THE SKY LAST NIGHT IT WAS...</td>\n      <td>0</td>\n      <td>13</td>\n    </tr>\n  </tbody>\n</table>\n</div>"
     },
     "metadata": {}
    }
   ]
  },
  {
   "cell_type": "code",
   "metadata": {
    "cell_id": "568c2a55845c421a809c6a4d7e2ae61e",
    "tags": [],
    "deepnote_to_be_reexecuted": false,
    "source_hash": "a6ad2492",
    "execution_start": 1662134884375,
    "execution_millis": 90,
    "deepnote_cell_type": "code",
    "deepnote_cell_height": 143.375
   },
   "source": "#Remover espacios, puntuación convertir a minuscula de la columna text\ntrain['text'] = train['text'].str.lower().str.replace('[^\\w\\s]',' ').str.replace('\\s\\s+', ' ')",
   "execution_count": 13,
   "outputs": [
    {
     "name": "stderr",
     "text": "/tmp/ipykernel_151/3173529442.py:2: FutureWarning: The default value of regex will change from True to False in a future version.\n  train['text'] = train['text'].str.lower().str.replace('[^\\w\\s]',' ').str.replace('\\s\\s+', ' ')\n",
     "output_type": "stream"
    }
   ]
  },
  {
   "cell_type": "code",
   "metadata": {
    "cell_id": "88630088c60b439cba29e7bd9475ec55",
    "tags": [],
    "deepnote_to_be_reexecuted": false,
    "source_hash": "8d791b3a",
    "execution_start": 1662134884468,
    "execution_millis": 2038,
    "deepnote_cell_type": "code",
    "deepnote_cell_height": 451.765625
   },
   "source": "nltk.download('stopwords')\nnltk.download('punkt')\nstop_words = set(stopwords.words('english'))\n\ndef preprocess_stop_words(row):\n    text = row['text']\n    word_tokens = word_tokenize(text)\n    filtered_sentence = [w for w in word_tokens if not w.lower() in stop_words]\n    filtered_sentence = []\n    for w in word_tokens:\n        if w not in stop_words:\n            filtered_sentence.append(w)\n\n    filtered_sentence = ' '.join((str(n) for n in filtered_sentence))\n    return filtered_sentence\n    \ntrain['text'] = train.apply(preprocess_stop_words, axis=1)",
   "execution_count": 14,
   "outputs": [
    {
     "name": "stderr",
     "text": "[nltk_data] Downloading package stopwords to /root/nltk_data...\n[nltk_data]   Package stopwords is already up-to-date!\n[nltk_data] Downloading package punkt to /root/nltk_data...\n[nltk_data]   Package punkt is already up-to-date!\n",
     "output_type": "stream"
    }
   ]
  },
  {
   "cell_type": "code",
   "metadata": {
    "cell_id": "7f28b58a9baf42c2a7661ea4dba62c87",
    "tags": [],
    "deepnote_to_be_reexecuted": false,
    "source_hash": "6e0541",
    "execution_start": 1662134886513,
    "execution_millis": 5188,
    "deepnote_cell_type": "code",
    "deepnote_cell_height": 469.765625
   },
   "source": "#Pasar los verbos a singular y generalizarlos (ej: wrecked -> wreck)\n\nnltk.download('wordnet')\nnltk.download('omw-1.4')\nlemmatizer = WordNetLemmatizer()\nstemmer = PorterStemmer()\n\ndef preprocess_stemming_lemmatization(row):\n    text = row['text']\n    temp = text.split()\n    for w in range(len(temp)):\n        temp[w] = lemmatizer.lemmatize(temp[w])\n        temp[w] = stemmer.stem(temp[w])\n        \n    text = ' '.join((str(n) for n in temp))\n    return text\n\ntrain['text'] = train.apply(preprocess_stemming_lemmatization, axis=1)",
   "execution_count": 15,
   "outputs": [
    {
     "name": "stderr",
     "text": "[nltk_data] Downloading package wordnet to /root/nltk_data...\n[nltk_data]   Package wordnet is already up-to-date!\n[nltk_data] Downloading package omw-1.4 to /root/nltk_data...\n[nltk_data]   Package omw-1.4 is already up-to-date!\n",
     "output_type": "stream"
    }
   ]
  },
  {
   "cell_type": "code",
   "metadata": {
    "cell_id": "55e05b94e47443d1bd2a98aff04f3410",
    "tags": [],
    "deepnote_to_be_reexecuted": false,
    "source_hash": "32448a18",
    "execution_start": 1662134891713,
    "execution_millis": 44,
    "deepnote_cell_type": "code",
    "deepnote_cell_height": 323.3125,
    "deepnote_output_heights": [
     231.328125
    ]
   },
   "source": "train['text']",
   "execution_count": 16,
   "outputs": [
    {
     "output_type": "execute_result",
     "execution_count": 16,
     "data": {
      "text/plain": "31                                  wholesal market ablaz\n32                         alway tri bring heavi metal rt\n33        africanbaz break newsnigeria flag set ablaz aba\n34                                          cri set ablaz\n35                     plu side look sky last night ablaz\n                              ...                        \n7575                                    bright side wreck\n7577    he gone relax thought wife wreck cake goner mi...\n7579    three day work theyv pretti much wreck hahaha ...\n7580    fx forex trade cramer iger word wreck disney s...\n7581    great atmospher british lion gig tonight hear ...\nName: text, Length: 5080, dtype: object"
     },
     "metadata": {}
    }
   ]
  },
  {
   "cell_type": "code",
   "metadata": {
    "cell_id": "9ee4a1579cde4af4a79f80697f58f498",
    "tags": [],
    "deepnote_to_be_reexecuted": false,
    "source_hash": "6a75a2a1",
    "execution_start": 1662134891756,
    "execution_millis": 354,
    "deepnote_cell_type": "code",
    "deepnote_cell_height": 418,
    "deepnote_output_heights": [
     285
    ]
   },
   "source": "#Frecuencia de palabras cuando es un desastre natural\ndesTrain = pd.DataFrame(train[train['target'] == 1].text.str.split(expand=True).stack().value_counts().nlargest(15), columns=['count'])\nax = desTrain.reset_index().plot.bar(x='index', y='count')",
   "execution_count": 17,
   "outputs": [
    {
     "data": {
      "text/plain": "<Figure size 432x288 with 1 Axes>",
      "image/png": "[encoded data removed]"
     },
     "metadata": {
      "needs_background": "light",
      "image/png": {
       "width": 375,
       "height": 284
      }
     },
     "output_type": "display_data"
    }
   ]
  },
  {
   "cell_type": "code",
   "metadata": {
    "cell_id": "0f937186ac444d588f91e5066a6e6010",
    "tags": [],
    "deepnote_to_be_reexecuted": false,
    "source_hash": "ae7dece9",
    "execution_start": 1662134892113,
    "execution_millis": 350,
    "deepnote_cell_type": "code",
    "deepnote_cell_height": 414,
    "deepnote_output_heights": [
     281
    ]
   },
   "source": "#Frecuencia de palabras cuando es metaforico\nmetaTrain = pd.DataFrame(train[train['target'] == 0].text.str.split(expand=True).stack().value_counts().nlargest(15), columns=['count'])\nax = metaTrain.reset_index().plot.bar(x='index', y='count')",
   "execution_count": 18,
   "outputs": [
    {
     "data": {
      "text/plain": "<Figure size 432x288 with 1 Axes>",
      "image/png": "[encoded data removed]"
     },
     "metadata": {
      "needs_background": "light",
      "image/png": {
       "width": 375,
       "height": 280
      }
     },
     "output_type": "display_data"
    }
   ]
  },
  {
   "cell_type": "code",
   "metadata": {
    "cell_id": "cafb2bcdb843421aa54b5d86a662d1bb",
    "tags": [],
    "deepnote_to_be_reexecuted": false,
    "source_hash": "a946f1ed",
    "execution_start": 1662134892470,
    "execution_millis": 16,
    "deepnote_cell_type": "code",
    "deepnote_cell_height": 613
   },
   "source": "#Palabras que aparecen en ambas categorias\nmetaTrain[~metaTrain.isin(desTrain)].dropna()",
   "execution_count": 19,
   "outputs": [
    {
     "output_type": "execute_result",
     "execution_count": 19,
     "data": {
      "application/vnd.deepnote.dataframe.v3+json": {
       "column_count": 1,
       "row_count": 15,
       "columns": [
        {
         "name": "count",
         "dtype": "int64",
         "stats": {
          "unique_count": 13,
          "nan_count": 0,
          "min": "67",
          "max": "195",
          "histogram": [
           {
            "bin_start": 67,
            "bin_end": 79.8,
            "count": 6
           },
           {
            "bin_start": 79.8,
            "bin_end": 92.6,
            "count": 1
           },
           {
            "bin_start": 92.6,
            "bin_end": 105.4,
            "count": 3
           },
           {
            "bin_start": 105.4,
            "bin_end": 118.2,
            "count": 1
           },
           {
            "bin_start": 118.2,
            "bin_end": 131,
            "count": 1
           },
           {
            "bin_start": 131,
            "bin_end": 143.8,
            "count": 1
           },
           {
            "bin_start": 143.8,
            "bin_end": 156.60000000000002,
            "count": 0
           },
           {
            "bin_start": 156.60000000000002,
            "bin_end": 169.4,
            "count": 0
           },
           {
            "bin_start": 169.4,
            "bin_end": 182.2,
            "count": 1
           },
           {
            "bin_start": 182.2,
            "bin_end": 195,
            "count": 1
           }
          ]
         }
        },
        {
         "name": "_deepnote_index_column",
         "dtype": "object"
        }
       ],
       "rows": [
        {
         "count": "195",
         "_deepnote_index_column": "like"
        },
        {
         "count": "176",
         "_deepnote_index_column": "im"
        },
        {
         "count": "143",
         "_deepnote_index_column": "get"
        },
        {
         "count": "127",
         "_deepnote_index_column": "new"
        },
        {
         "count": "114",
         "_deepnote_index_column": "amp"
        },
        {
         "count": "103",
         "_deepnote_index_column": "go"
        },
        {
         "count": "97",
         "_deepnote_index_column": "u"
        },
        {
         "count": "97",
         "_deepnote_index_column": "dont"
        },
        {
         "count": "89",
         "_deepnote_index_column": "one"
        },
        {
         "count": "75",
         "_deepnote_index_column": "bodi"
        }
       ]
      },
      "text/plain": "      count\nlike    195\nim      176\nget     143\nnew     127\namp     114\ngo      103\nu        97\ndont     97\none      89\nbodi     75\ntime     71\nsee      70\nlove     70\nday      69\nmake     67",
      "text/html": "<div>\n<style scoped>\n    .dataframe tbody tr th:only-of-type {\n        vertical-align: middle;\n    }\n\n    .dataframe tbody tr th {\n        vertical-align: top;\n    }\n\n    .dataframe thead th {\n        text-align: right;\n    }\n</style>\n<table border=\"1\" class=\"dataframe\">\n  <thead>\n    <tr style=\"text-align: right;\">\n      <th></th>\n      <th>count</th>\n    </tr>\n  </thead>\n  <tbody>\n    <tr>\n      <th>like</th>\n      <td>195</td>\n    </tr>\n    <tr>\n      <th>im</th>\n      <td>176</td>\n    </tr>\n    <tr>\n      <th>get</th>\n      <td>143</td>\n    </tr>\n    <tr>\n      <th>new</th>\n      <td>127</td>\n    </tr>\n    <tr>\n      <th>amp</th>\n      <td>114</td>\n    </tr>\n    <tr>\n      <th>go</th>\n      <td>103</td>\n    </tr>\n    <tr>\n      <th>u</th>\n      <td>97</td>\n    </tr>\n    <tr>\n      <th>dont</th>\n      <td>97</td>\n    </tr>\n    <tr>\n      <th>one</th>\n      <td>89</td>\n    </tr>\n    <tr>\n      <th>bodi</th>\n      <td>75</td>\n    </tr>\n    <tr>\n      <th>time</th>\n      <td>71</td>\n    </tr>\n    <tr>\n      <th>see</th>\n      <td>70</td>\n    </tr>\n    <tr>\n      <th>love</th>\n      <td>70</td>\n    </tr>\n    <tr>\n      <th>day</th>\n      <td>69</td>\n    </tr>\n    <tr>\n      <th>make</th>\n      <td>67</td>\n    </tr>\n  </tbody>\n</table>\n</div>"
     },
     "metadata": {}
    }
   ]
  },
  {
   "cell_type": "code",
   "metadata": {
    "cell_id": "cf735c8bdd234069b5a54e54719260e5",
    "tags": [],
    "deepnote_to_be_reexecuted": false,
    "source_hash": "504352d9",
    "execution_start": 1662134892504,
    "execution_millis": 1418,
    "deepnote_cell_type": "code",
    "deepnote_cell_height": 793
   },
   "source": "#ngramas de tweets metaforicos\nstoplist = stopwords.words('english') + ['though']\nc_vec = CountVectorizer(stop_words=stoplist, ngram_range=(2,3))\n# matrix of ngrams\nngrams = c_vec.fit_transform(train[train['target'] == 0].text) #Sean metaforicos\n# count frequency of ngrams\ncount_values = ngrams.toarray().sum(axis=0)\n# list of ngrams\nvocab = c_vec.vocabulary_\ndf_ngram_meta = pd.DataFrame(sorted([(count_values[i],k) for k,i in vocab.items()], reverse=True)\n            ).rename(columns={0: 'frequency', 1:'bigram/trigram'})\ndf_ngram_meta",
   "execution_count": 20,
   "outputs": [
    {
     "output_type": "execute_result",
     "execution_count": 20,
     "data": {
      "application/vnd.deepnote.dataframe.v3+json": {
       "column_count": 2,
       "row_count": 33337,
       "columns": [
        {
         "name": "frequency",
         "dtype": "int64",
         "stats": {
          "unique_count": 22,
          "nan_count": 0,
          "min": "1",
          "max": "49",
          "histogram": [
           {
            "bin_start": 1,
            "bin_end": 5.8,
            "count": 33118
           },
           {
            "bin_start": 5.8,
            "bin_end": 10.6,
            "count": 135
           },
           {
            "bin_start": 10.6,
            "bin_end": 15.399999999999999,
            "count": 73
           },
           {
            "bin_start": 15.399999999999999,
            "bin_end": 20.2,
            "count": 7
           },
           {
            "bin_start": 20.2,
            "bin_end": 25,
            "count": 3
           },
           {
            "bin_start": 25,
            "bin_end": 29.799999999999997,
            "count": 0
           },
           {
            "bin_start": 29.799999999999997,
            "bin_end": 34.6,
            "count": 0
           },
           {
            "bin_start": 34.6,
            "bin_end": 39.4,
            "count": 0
           },
           {
            "bin_start": 39.4,
            "bin_end": 44.199999999999996,
            "count": 0
           },
           {
            "bin_start": 44.199999999999996,
            "bin_end": 49,
            "count": 1
           }
          ]
         }
        },
        {
         "name": "bigram/trigram",
         "dtype": "object",
         "stats": {
          "unique_count": 33337,
          "nan_count": 0,
          "categories": [
           {
            "name": "bodi bag",
            "count": 1
           },
           {
            "name": "look like",
            "count": 1
           },
           {
            "name": "33335 others",
            "count": 33335
           }
          ]
         }
        },
        {
         "name": "_deepnote_index_column",
         "dtype": "int64"
        }
       ],
       "rows": [
        {
         "frequency": "49",
         "bigram/trigram": "bodi bag",
         "_deepnote_index_column": "0"
        },
        {
         "frequency": "23",
         "bigram/trigram": "look like",
         "_deepnote_index_column": "1"
        },
        {
         "frequency": "23",
         "bigram/trigram": "full read",
         "_deepnote_index_column": "2"
        },
        {
         "frequency": "22",
         "bigram/trigram": "cross bodi",
         "_deepnote_index_column": "3"
        },
        {
         "frequency": "20",
         "bigram/trigram": "like video",
         "_deepnote_index_column": "4"
        },
        {
         "frequency": "19",
         "bigram/trigram": "wan na",
         "_deepnote_index_column": "5"
        },
        {
         "frequency": "17",
         "bigram/trigram": "gon na",
         "_deepnote_index_column": "6"
        },
        {
         "frequency": "17",
         "bigram/trigram": "feel like",
         "_deepnote_index_column": "7"
        },
        {
         "frequency": "17",
         "bigram/trigram": "cross bodi bag",
         "_deepnote_index_column": "8"
        },
        {
         "frequency": "16",
         "bigram/trigram": "emerg servic",
         "_deepnote_index_column": "9"
        }
       ]
      },
      "text/plain": "       frequency     bigram/trigram\n0             49           bodi bag\n1             23          look like\n2             23          full read\n3             22         cross bodi\n4             20         like video\n...          ...                ...\n33332          1       200 block se\n33333          1          200 block\n33334          1        1710 pdx911\n33335          1  12th ave portland\n33336          1           12th ave\n\n[33337 rows x 2 columns]",
      "text/html": "<div>\n<style scoped>\n    .dataframe tbody tr th:only-of-type {\n        vertical-align: middle;\n    }\n\n    .dataframe tbody tr th {\n        vertical-align: top;\n    }\n\n    .dataframe thead th {\n        text-align: right;\n    }\n</style>\n<table border=\"1\" class=\"dataframe\">\n  <thead>\n    <tr style=\"text-align: right;\">\n      <th></th>\n      <th>frequency</th>\n      <th>bigram/trigram</th>\n    </tr>\n  </thead>\n  <tbody>\n    <tr>\n      <th>0</th>\n      <td>49</td>\n      <td>bodi bag</td>\n    </tr>\n    <tr>\n      <th>1</th>\n      <td>23</td>\n      <td>look like</td>\n    </tr>\n    <tr>\n      <th>2</th>\n      <td>23</td>\n      <td>full read</td>\n    </tr>\n    <tr>\n      <th>3</th>\n      <td>22</td>\n      <td>cross bodi</td>\n    </tr>\n    <tr>\n      <th>4</th>\n      <td>20</td>\n      <td>like video</td>\n    </tr>\n    <tr>\n      <th>...</th>\n      <td>...</td>\n      <td>...</td>\n    </tr>\n    <tr>\n      <th>33332</th>\n      <td>1</td>\n      <td>200 block se</td>\n    </tr>\n    <tr>\n      <th>33333</th>\n      <td>1</td>\n      <td>200 block</td>\n    </tr>\n    <tr>\n      <th>33334</th>\n      <td>1</td>\n      <td>1710 pdx911</td>\n    </tr>\n    <tr>\n      <th>33335</th>\n      <td>1</td>\n      <td>12th ave portland</td>\n    </tr>\n    <tr>\n      <th>33336</th>\n      <td>1</td>\n      <td>12th ave</td>\n    </tr>\n  </tbody>\n</table>\n<p>33337 rows × 2 columns</p>\n</div>"
     },
     "metadata": {}
    }
   ]
  },
  {
   "cell_type": "code",
   "metadata": {
    "cell_id": "239e7b2261dd4d209837a47bf515c057",
    "tags": [],
    "deepnote_to_be_reexecuted": false,
    "source_hash": "a8f007d7",
    "execution_start": 1662134893071,
    "execution_millis": 878,
    "deepnote_cell_type": "code",
    "deepnote_cell_height": 793
   },
   "source": "#ngramas de tweets con desastres reales\nstoplist = stopwords.words('english') + ['though']\nc_vec = CountVectorizer(stop_words=stoplist, ngram_range=(2,3))\n# matrix of ngrams\nngrams = c_vec.fit_transform(train[train['target'] == 1].text) #Sean Reales\n# count frequency of ngrams\ncount_values = ngrams.toarray().sum(axis=0)\n# list of ngrams\nvocab = c_vec.vocabulary_\ndf_ngram_des = pd.DataFrame(sorted([(count_values[i],k) for k,i in vocab.items()], reverse=True)\n            ).rename(columns={0: 'frequency', 1:'bigram/trigram'})\ndf_ngram_des",
   "execution_count": 21,
   "outputs": [
    {
     "output_type": "execute_result",
     "execution_count": 21,
     "data": {
      "application/vnd.deepnote.dataframe.v3+json": {
       "column_count": 2,
       "row_count": 25105,
       "columns": [
        {
         "name": "frequency",
         "dtype": "int64",
         "stats": {
          "unique_count": 27,
          "nan_count": 0,
          "min": "1",
          "max": "33",
          "histogram": [
           {
            "bin_start": 1,
            "bin_end": 4.2,
            "count": 24649
           },
           {
            "bin_start": 4.2,
            "bin_end": 7.4,
            "count": 233
           },
           {
            "bin_start": 7.4,
            "bin_end": 10.600000000000001,
            "count": 85
           },
           {
            "bin_start": 10.600000000000001,
            "bin_end": 13.8,
            "count": 53
           },
           {
            "bin_start": 13.8,
            "bin_end": 17,
            "count": 31
           },
           {
            "bin_start": 17,
            "bin_end": 20.200000000000003,
            "count": 37
           },
           {
            "bin_start": 20.200000000000003,
            "bin_end": 23.400000000000002,
            "count": 11
           },
           {
            "bin_start": 23.400000000000002,
            "bin_end": 26.6,
            "count": 1
           },
           {
            "bin_start": 26.6,
            "bin_end": 29.8,
            "count": 3
           },
           {
            "bin_start": 29.8,
            "bin_end": 33,
            "count": 2
           }
          ]
         }
        },
        {
         "name": "bigram/trigram",
         "dtype": "object",
         "stats": {
          "unique_count": 25105,
          "nan_count": 0,
          "categories": [
           {
            "name": "train derail",
            "count": 1
           },
           {
            "name": "suicid bomber",
            "count": 1
           },
           {
            "name": "25103 others",
            "count": 25103
           }
          ]
         }
        },
        {
         "name": "_deepnote_index_column",
         "dtype": "int64"
        }
       ],
       "rows": [
        {
         "frequency": "33",
         "bigram/trigram": "train derail",
         "_deepnote_index_column": "0"
        },
        {
         "frequency": "30",
         "bigram/trigram": "suicid bomber",
         "_deepnote_index_column": "1"
        },
        {
         "frequency": "29",
         "bigram/trigram": "mass murder",
         "_deepnote_index_column": "2"
        },
        {
         "frequency": "29",
         "bigram/trigram": "atom bomb",
         "_deepnote_index_column": "3"
        },
        {
         "frequency": "28",
         "bigram/trigram": "burn build",
         "_deepnote_index_column": "4"
        },
        {
         "frequency": "25",
         "bigram/trigram": "oil spill",
         "_deepnote_index_column": "5"
        },
        {
         "frequency": "22",
         "bigram/trigram": "sever thunderstorm",
         "_deepnote_index_column": "6"
        },
        {
         "frequency": "22",
         "bigram/trigram": "confirm mh",
         "_deepnote_index_column": "7"
        },
        {
         "frequency": "21",
         "bigram/trigram": "watch airport get",
         "_deepnote_index_column": "8"
        },
        {
         "frequency": "21",
         "bigram/trigram": "watch airport",
         "_deepnote_index_column": "9"
        }
       ]
      },
      "text/plain": "       frequency    bigram/trigram\n0             33      train derail\n1             30     suicid bomber\n2             29       mass murder\n3             29         atom bomb\n4             28        burn build\n...          ...               ...\n25100          1  4the public fact\n25101          1       4the public\n25102          1  2015 look happen\n25103          1         2015 look\n25104          1       1726 pdx911\n\n[25105 rows x 2 columns]",
      "text/html": "<div>\n<style scoped>\n    .dataframe tbody tr th:only-of-type {\n        vertical-align: middle;\n    }\n\n    .dataframe tbody tr th {\n        vertical-align: top;\n    }\n\n    .dataframe thead th {\n        text-align: right;\n    }\n</style>\n<table border=\"1\" class=\"dataframe\">\n  <thead>\n    <tr style=\"text-align: right;\">\n      <th></th>\n      <th>frequency</th>\n      <th>bigram/trigram</th>\n    </tr>\n  </thead>\n  <tbody>\n    <tr>\n      <th>0</th>\n      <td>33</td>\n      <td>train derail</td>\n    </tr>\n    <tr>\n      <th>1</th>\n      <td>30</td>\n      <td>suicid bomber</td>\n    </tr>\n    <tr>\n      <th>2</th>\n      <td>29</td>\n      <td>mass murder</td>\n    </tr>\n    <tr>\n      <th>3</th>\n      <td>29</td>\n      <td>atom bomb</td>\n    </tr>\n    <tr>\n      <th>4</th>\n      <td>28</td>\n      <td>burn build</td>\n    </tr>\n    <tr>\n      <th>...</th>\n      <td>...</td>\n      <td>...</td>\n    </tr>\n    <tr>\n      <th>25100</th>\n      <td>1</td>\n      <td>4the public fact</td>\n    </tr>\n    <tr>\n      <th>25101</th>\n      <td>1</td>\n      <td>4the public</td>\n    </tr>\n    <tr>\n      <th>25102</th>\n      <td>1</td>\n      <td>2015 look happen</td>\n    </tr>\n    <tr>\n      <th>25103</th>\n      <td>1</td>\n      <td>2015 look</td>\n    </tr>\n    <tr>\n      <th>25104</th>\n      <td>1</td>\n      <td>1726 pdx911</td>\n    </tr>\n  </tbody>\n</table>\n<p>25105 rows × 2 columns</p>\n</div>"
     },
     "metadata": {}
    }
   ]
  },
  {
   "cell_type": "markdown",
   "source": "## Función predictora de tuits",
   "metadata": {
    "formattedRanges": [],
    "is_collapsed": false,
    "cell_id": "daf191b1285c4855b5f1293cccff9bd5",
    "tags": [],
    "deepnote_cell_type": "text-cell-h2"
   }
  },
  {
   "cell_type": "code",
   "metadata": {
    "cell_id": "4db72e0c78a04bd1a88e15f226b2e67c",
    "tags": [],
    "deepnote_to_be_reexecuted": false,
    "source_hash": "329ae6d3",
    "execution_start": 1662134893483,
    "execution_millis": 301,
    "deepnote_cell_type": "code",
    "deepnote_cell_height": 130
   },
   "source": "tokenizer = AutoTokenizer.from_pretrained('bert-large-uncased')\n\n\n",
   "execution_count": 22,
   "outputs": []
  },
  {
   "cell_type": "code",
   "metadata": {
    "cell_id": "743be08b40cf4abc9e81d034cfd52514",
    "tags": [],
    "deepnote_to_be_reexecuted": false,
    "source_hash": "b9a3df3c",
    "execution_start": 1662134893787,
    "execution_millis": 27129,
    "deepnote_cell_type": "code",
    "deepnote_cell_height": 283.375
   },
   "source": "bert = TFBertModel.from_pretrained('bert-large-uncased')",
   "execution_count": 23,
   "outputs": [
    {
     "name": "stderr",
     "text": "2022-09-02 16:08:13.852419: W tensorflow/stream_executor/platform/default/dso_loader.cc:64] Could not load dynamic library 'libcuda.so.1'; dlerror: libcuda.so.1: cannot open shared object file: No such file or directory\n2022-09-02 16:08:13.852450: W tensorflow/stream_executor/cuda/cuda_driver.cc:269] failed call to cuInit: UNKNOWN ERROR (303)\n2022-09-02 16:08:13.852477: I tensorflow/stream_executor/cuda/cuda_diagnostics.cc:156] kernel driver does not appear to be running on this host (p-a136f39d-34ff-4fab-95a4-ccd9983de5a7): /proc/driver/nvidia/version does not exist\n2022-09-02 16:08:13.852920: I tensorflow/core/platform/cpu_feature_guard.cc:193] This TensorFlow binary is optimized with oneAPI Deep Neural Network Library (oneDNN) to use the following CPU instructions in performance-critical operations:  AVX2 AVX512F FMA\nTo enable them in other operations, rebuild TensorFlow with the appropriate compiler flags.\nSome layers from the model checkpoint at bert-large-uncased were not used when initializing TFBertModel: ['mlm___cls', 'nsp___cls']\n- This IS expected if you are initializing TFBertModel from the checkpoint of a model trained on another task or with another architecture (e.g. initializing a BertForSequenceClassification model from a BertForPreTraining model).\n- This IS NOT expected if you are initializing TFBertModel from the checkpoint of a model that you expect to be exactly identical (initializing a BertForSequenceClassification model from a BertForSequenceClassification model).\nAll the layers of TFBertModel were initialized from the model checkpoint at bert-large-uncased.\nIf your task is similar to the task the model of the checkpoint was trained on, you can already use TFBertModel for predictions without further training.\n",
     "output_type": "stream"
    }
   ]
  },
  {
   "cell_type": "code",
   "metadata": {
    "cell_id": "91fb953f41b04a3689205958328be215",
    "tags": [],
    "deepnote_to_be_reexecuted": false,
    "source_hash": "782da5c1",
    "execution_start": 1662134920915,
    "execution_millis": 354,
    "deepnote_cell_type": "code",
    "deepnote_cell_height": 322.1875
   },
   "source": "print(\"max len of tweets\",max([len(x.split()) for x in train.text]))\nmax_length = 36\nx_train = tokenizer(\n    text=train.text.tolist(),\n    add_special_tokens=True,\n    max_length=36,\n    truncation=True,\n    padding=True, \n    return_tensors='tf',\n    return_token_type_ids = False,\n    return_attention_mask = True,\n    verbose = True)\n",
   "execution_count": 24,
   "outputs": [
    {
     "name": "stdout",
     "text": "max len of tweets 23\n",
     "output_type": "stream"
    }
   ]
  },
  {
   "cell_type": "code",
   "metadata": {
    "cell_id": "c5d2ce8257b3499a9970a0ace1448073",
    "tags": [],
    "deepnote_to_be_reexecuted": false,
    "source_hash": "30a4c0df",
    "execution_start": 1662134921268,
    "execution_millis": 9,
    "deepnote_cell_type": "code",
    "deepnote_cell_height": 184.171875,
    "deepnote_output_heights": [
     20.171875
    ]
   },
   "source": "x_train['input_ids'].shape\nx_train['attention_mask'].shape\ny_train = train.target.values\ny_train\n",
   "execution_count": 25,
   "outputs": [
    {
     "output_type": "execute_result",
     "execution_count": 25,
     "data": {
      "text/plain": "array([1, 0, 1, ..., 0, 0, 0])"
     },
     "metadata": {}
    }
   ]
  },
  {
   "cell_type": "code",
   "metadata": {
    "cell_id": "37d85d077b7c45fa9865b1503d974c8e",
    "tags": [],
    "deepnote_to_be_reexecuted": false,
    "source_hash": "8e48d29b",
    "execution_start": 1662134921301,
    "execution_millis": 7313,
    "deepnote_cell_type": "code",
    "deepnote_cell_height": 351
   },
   "source": "max_len = 36\ninput_ids = Input(shape=(max_len,), dtype=tf.int32, name=\"input_ids\")\ninput_mask = Input(shape=(max_len,), dtype=tf.int32, name=\"attention_mask\")\n\n\nembeddings = bert(input_ids,attention_mask = input_mask)[1] #(0 is the last hidden states,1 means pooler_output)\nout = tf.keras.layers.Dropout(0.1)(embeddings)\n\nout = Dense(128, activation='relu')(out)\nout = tf.keras.layers.Dropout(0.1)(out)\nout = Dense(32,activation = 'relu')(out)\n\ny = Dense(1,activation = 'sigmoid')(out)\n    \nmodel = tf.keras.Model(inputs=[input_ids, input_mask], outputs=y)\nmodel.layers[2].trainable = True",
   "execution_count": 26,
   "outputs": []
  },
  {
   "cell_type": "code",
   "metadata": {
    "cell_id": "a66233bff13a42c7981ce5b70745d89a",
    "tags": [],
    "deepnote_to_be_reexecuted": false,
    "source_hash": "4e6a3b95",
    "execution_start": 1662134928614,
    "execution_millis": 296,
    "deepnote_cell_type": "code",
    "deepnote_cell_height": 696
   },
   "source": "model.summary()",
   "execution_count": 27,
   "outputs": [
    {
     "name": "stdout",
     "text": "Model: \"model\"\n__________________________________________________________________________________________________\n Layer (type)                   Output Shape         Param #     Connected to                     \n==================================================================================================\n input_ids (InputLayer)         [(None, 36)]         0           []                               \n                                                                                                  \n attention_mask (InputLayer)    [(None, 36)]         0           []                               \n                                                                                                  \n tf_bert_model (TFBertModel)    TFBaseModelOutputWi  335141888   ['input_ids[0][0]',              \n                                thPoolingAndCrossAt               'attention_mask[0][0]']         \n                                tentions(last_hidde                                               \n                                n_state=(None, 36,                                                \n                                1024),                                                            \n                                 pooler_output=(Non                                               \n                                e, 1024),                                                         \n                                 past_key_values=No                                               \n                                ne, hidden_states=N                                               \n                                one, attentions=Non                                               \n                                e, cross_attentions                                               \n                                =None)                                                            \n                                                                                                  \n dropout_73 (Dropout)           (None, 1024)         0           ['tf_bert_model[0][1]']          \n                                                                                                  \n dense (Dense)                  (None, 128)          131200      ['dropout_73[0][0]']             \n                                                                                                  \n dropout_74 (Dropout)           (None, 128)          0           ['dense[0][0]']                  \n                                                                                                  \n dense_1 (Dense)                (None, 32)           4128        ['dropout_74[0][0]']             \n                                                                                                  \n dense_2 (Dense)                (None, 1)            33          ['dense_1[0][0]']                \n                                                                                                  \n==================================================================================================\nTotal params: 335,277,249\nTrainable params: 335,277,249\nNon-trainable params: 0\n__________________________________________________________________________________________________\n",
     "output_type": "stream"
    }
   ]
  },
  {
   "cell_type": "code",
   "metadata": {
    "cell_id": "3988adc805054944a63d1bbea04986b7",
    "tags": [],
    "deepnote_to_be_reexecuted": false,
    "source_hash": "e4de2f9b",
    "execution_start": 1662134928772,
    "execution_millis": 0,
    "deepnote_cell_type": "code",
    "deepnote_cell_height": 310
   },
   "source": "optimizer = Adam(\n    learning_rate=6e-06, # this learning rate is for bert model.\n    epsilon=1e-08,\n    decay=0.01,\n    clipnorm=1.0)\n\n# Set loss and metrics\nloss = BinaryCrossentropy(from_logits = True)\nmetric = BinaryAccuracy('accuracy'),\n# Compile the model\nmodel.compile(\n    optimizer = optimizer,\n    loss = loss, \n    metrics = metric)",
   "execution_count": 28,
   "outputs": []
  },
  {
   "cell_type": "code",
   "source": "x_test = tokenizer(\n    text=test_data.text.tolist(),\n    add_special_tokens=True,\n    max_length=36,\n    truncation=True,\n    padding=True, \n    return_tensors='tf',\n    return_token_type_ids = False,\n    return_attention_mask = True,\n    verbose = True)",
   "metadata": {
    "cell_id": "b4d7ffcf6e344083bb5b35a66936f522",
    "tags": [],
    "deepnote_to_be_reexecuted": false,
    "source_hash": "ab7cf5df",
    "execution_start": 1662134928772,
    "execution_millis": 1231,
    "deepnote_cell_type": "code",
    "deepnote_cell_height": 238
   },
   "outputs": [],
   "execution_count": 29
  },
  {
   "cell_type": "code",
   "source": "predicted = model.predict({'input_ids':x_test['input_ids'],'attention_mask':x_test['attention_mask']})\n",
   "metadata": {
    "cell_id": "1d9efe4570d749949b8762f8b3734f72",
    "tags": [],
    "deepnote_to_be_reexecuted": false,
    "source_hash": "b3907801",
    "execution_start": 1662135007267,
    "execution_millis": 1133157,
    "deepnote_cell_type": "code",
    "deepnote_cell_height": 124.1875
   },
   "outputs": [
    {
     "name": "stdout",
     "text": " 53/238 [=====>........................] - ETA: 1:02:56",
     "output_type": "stream"
    },
    {
     "output_type": "error",
     "ename": "KeyboardInterrupt",
     "evalue": "",
     "traceback": [
      "\u001b[0;31m---------------------------------------------------------------------------\u001b[0m",
      "\u001b[0;31mKeyboardInterrupt\u001b[0m                         Traceback (most recent call last)",
      "Input \u001b[0;32mIn [30]\u001b[0m, in \u001b[0;36m<cell line: 1>\u001b[0;34m()\u001b[0m\n\u001b[0;32m----> 1\u001b[0m predicted \u001b[38;5;241m=\u001b[39m \u001b[43mmodel\u001b[49m\u001b[38;5;241;43m.\u001b[39;49m\u001b[43mpredict\u001b[49m\u001b[43m(\u001b[49m\u001b[43m{\u001b[49m\u001b[38;5;124;43m'\u001b[39;49m\u001b[38;5;124;43minput_ids\u001b[39;49m\u001b[38;5;124;43m'\u001b[39;49m\u001b[43m:\u001b[49m\u001b[43mx_test\u001b[49m\u001b[43m[\u001b[49m\u001b[38;5;124;43m'\u001b[39;49m\u001b[38;5;124;43minput_ids\u001b[39;49m\u001b[38;5;124;43m'\u001b[39;49m\u001b[43m]\u001b[49m\u001b[43m,\u001b[49m\u001b[38;5;124;43m'\u001b[39;49m\u001b[38;5;124;43mattention_mask\u001b[39;49m\u001b[38;5;124;43m'\u001b[39;49m\u001b[43m:\u001b[49m\u001b[43mx_test\u001b[49m\u001b[43m[\u001b[49m\u001b[38;5;124;43m'\u001b[39;49m\u001b[38;5;124;43mattention_mask\u001b[39;49m\u001b[38;5;124;43m'\u001b[39;49m\u001b[43m]\u001b[49m\u001b[43m}\u001b[49m\u001b[43m)\u001b[49m\n",
      "File \u001b[0;32m/shared-libs/python3.9/py/lib/python3.9/site-packages/keras/utils/traceback_utils.py:64\u001b[0m, in \u001b[0;36mfilter_traceback.<locals>.error_handler\u001b[0;34m(*args, **kwargs)\u001b[0m\n\u001b[1;32m     62\u001b[0m filtered_tb \u001b[38;5;241m=\u001b[39m \u001b[38;5;28;01mNone\u001b[39;00m\n\u001b[1;32m     63\u001b[0m \u001b[38;5;28;01mtry\u001b[39;00m:\n\u001b[0;32m---> 64\u001b[0m   \u001b[38;5;28;01mreturn\u001b[39;00m \u001b[43mfn\u001b[49m\u001b[43m(\u001b[49m\u001b[38;5;241;43m*\u001b[39;49m\u001b[43margs\u001b[49m\u001b[43m,\u001b[49m\u001b[43m \u001b[49m\u001b[38;5;241;43m*\u001b[39;49m\u001b[38;5;241;43m*\u001b[39;49m\u001b[43mkwargs\u001b[49m\u001b[43m)\u001b[49m\n\u001b[1;32m     65\u001b[0m \u001b[38;5;28;01mexcept\u001b[39;00m \u001b[38;5;167;01mException\u001b[39;00m \u001b[38;5;28;01mas\u001b[39;00m e:  \u001b[38;5;66;03m# pylint: disable=broad-except\u001b[39;00m\n\u001b[1;32m     66\u001b[0m   filtered_tb \u001b[38;5;241m=\u001b[39m _process_traceback_frames(e\u001b[38;5;241m.\u001b[39m__traceback__)\n",
      "File \u001b[0;32m/shared-libs/python3.9/py/lib/python3.9/site-packages/keras/engine/training.py:2033\u001b[0m, in \u001b[0;36mModel.predict\u001b[0;34m(self, x, batch_size, verbose, steps, callbacks, max_queue_size, workers, use_multiprocessing)\u001b[0m\n\u001b[1;32m   2031\u001b[0m \u001b[38;5;28;01mfor\u001b[39;00m step \u001b[38;5;129;01min\u001b[39;00m data_handler\u001b[38;5;241m.\u001b[39msteps():\n\u001b[1;32m   2032\u001b[0m   callbacks\u001b[38;5;241m.\u001b[39mon_predict_batch_begin(step)\n\u001b[0;32m-> 2033\u001b[0m   tmp_batch_outputs \u001b[38;5;241m=\u001b[39m \u001b[38;5;28;43mself\u001b[39;49m\u001b[38;5;241;43m.\u001b[39;49m\u001b[43mpredict_function\u001b[49m\u001b[43m(\u001b[49m\u001b[43miterator\u001b[49m\u001b[43m)\u001b[49m\n\u001b[1;32m   2034\u001b[0m   \u001b[38;5;28;01mif\u001b[39;00m data_handler\u001b[38;5;241m.\u001b[39mshould_sync:\n\u001b[1;32m   2035\u001b[0m     context\u001b[38;5;241m.\u001b[39masync_wait()\n",
      "File \u001b[0;32m/shared-libs/python3.9/py/lib/python3.9/site-packages/tensorflow/python/util/traceback_utils.py:150\u001b[0m, in \u001b[0;36mfilter_traceback.<locals>.error_handler\u001b[0;34m(*args, **kwargs)\u001b[0m\n\u001b[1;32m    148\u001b[0m filtered_tb \u001b[38;5;241m=\u001b[39m \u001b[38;5;28;01mNone\u001b[39;00m\n\u001b[1;32m    149\u001b[0m \u001b[38;5;28;01mtry\u001b[39;00m:\n\u001b[0;32m--> 150\u001b[0m   \u001b[38;5;28;01mreturn\u001b[39;00m \u001b[43mfn\u001b[49m\u001b[43m(\u001b[49m\u001b[38;5;241;43m*\u001b[39;49m\u001b[43margs\u001b[49m\u001b[43m,\u001b[49m\u001b[43m \u001b[49m\u001b[38;5;241;43m*\u001b[39;49m\u001b[38;5;241;43m*\u001b[39;49m\u001b[43mkwargs\u001b[49m\u001b[43m)\u001b[49m\n\u001b[1;32m    151\u001b[0m \u001b[38;5;28;01mexcept\u001b[39;00m \u001b[38;5;167;01mException\u001b[39;00m \u001b[38;5;28;01mas\u001b[39;00m e:\n\u001b[1;32m    152\u001b[0m   filtered_tb \u001b[38;5;241m=\u001b[39m _process_traceback_frames(e\u001b[38;5;241m.\u001b[39m__traceback__)\n",
      "File \u001b[0;32m/shared-libs/python3.9/py/lib/python3.9/site-packages/tensorflow/python/eager/def_function.py:915\u001b[0m, in \u001b[0;36mFunction.__call__\u001b[0;34m(self, *args, **kwds)\u001b[0m\n\u001b[1;32m    912\u001b[0m compiler \u001b[38;5;241m=\u001b[39m \u001b[38;5;124m\"\u001b[39m\u001b[38;5;124mxla\u001b[39m\u001b[38;5;124m\"\u001b[39m \u001b[38;5;28;01mif\u001b[39;00m \u001b[38;5;28mself\u001b[39m\u001b[38;5;241m.\u001b[39m_jit_compile \u001b[38;5;28;01melse\u001b[39;00m \u001b[38;5;124m\"\u001b[39m\u001b[38;5;124mnonXla\u001b[39m\u001b[38;5;124m\"\u001b[39m\n\u001b[1;32m    914\u001b[0m \u001b[38;5;28;01mwith\u001b[39;00m OptionalXlaContext(\u001b[38;5;28mself\u001b[39m\u001b[38;5;241m.\u001b[39m_jit_compile):\n\u001b[0;32m--> 915\u001b[0m   result \u001b[38;5;241m=\u001b[39m \u001b[38;5;28;43mself\u001b[39;49m\u001b[38;5;241;43m.\u001b[39;49m\u001b[43m_call\u001b[49m\u001b[43m(\u001b[49m\u001b[38;5;241;43m*\u001b[39;49m\u001b[43margs\u001b[49m\u001b[43m,\u001b[49m\u001b[43m \u001b[49m\u001b[38;5;241;43m*\u001b[39;49m\u001b[38;5;241;43m*\u001b[39;49m\u001b[43mkwds\u001b[49m\u001b[43m)\u001b[49m\n\u001b[1;32m    917\u001b[0m new_tracing_count \u001b[38;5;241m=\u001b[39m \u001b[38;5;28mself\u001b[39m\u001b[38;5;241m.\u001b[39mexperimental_get_tracing_count()\n\u001b[1;32m    918\u001b[0m without_tracing \u001b[38;5;241m=\u001b[39m (tracing_count \u001b[38;5;241m==\u001b[39m new_tracing_count)\n",
      "File \u001b[0;32m/shared-libs/python3.9/py/lib/python3.9/site-packages/tensorflow/python/eager/def_function.py:954\u001b[0m, in \u001b[0;36mFunction._call\u001b[0;34m(self, *args, **kwds)\u001b[0m\n\u001b[1;32m    951\u001b[0m \u001b[38;5;28mself\u001b[39m\u001b[38;5;241m.\u001b[39m_lock\u001b[38;5;241m.\u001b[39mrelease()\n\u001b[1;32m    952\u001b[0m \u001b[38;5;66;03m# In this case we have not created variables on the first call. So we can\u001b[39;00m\n\u001b[1;32m    953\u001b[0m \u001b[38;5;66;03m# run the first trace but we should fail if variables are created.\u001b[39;00m\n\u001b[0;32m--> 954\u001b[0m results \u001b[38;5;241m=\u001b[39m \u001b[38;5;28;43mself\u001b[39;49m\u001b[38;5;241;43m.\u001b[39;49m\u001b[43m_stateful_fn\u001b[49m\u001b[43m(\u001b[49m\u001b[38;5;241;43m*\u001b[39;49m\u001b[43margs\u001b[49m\u001b[43m,\u001b[49m\u001b[43m \u001b[49m\u001b[38;5;241;43m*\u001b[39;49m\u001b[38;5;241;43m*\u001b[39;49m\u001b[43mkwds\u001b[49m\u001b[43m)\u001b[49m\n\u001b[1;32m    955\u001b[0m \u001b[38;5;28;01mif\u001b[39;00m \u001b[38;5;28mself\u001b[39m\u001b[38;5;241m.\u001b[39m_created_variables \u001b[38;5;129;01mand\u001b[39;00m \u001b[38;5;129;01mnot\u001b[39;00m ALLOW_DYNAMIC_VARIABLE_CREATION:\n\u001b[1;32m    956\u001b[0m   \u001b[38;5;28;01mraise\u001b[39;00m \u001b[38;5;167;01mValueError\u001b[39;00m(\u001b[38;5;124m\"\u001b[39m\u001b[38;5;124mCreating variables on a non-first call to a function\u001b[39m\u001b[38;5;124m\"\u001b[39m\n\u001b[1;32m    957\u001b[0m                    \u001b[38;5;124m\"\u001b[39m\u001b[38;5;124m decorated with tf.function.\u001b[39m\u001b[38;5;124m\"\u001b[39m)\n",
      "File \u001b[0;32m/shared-libs/python3.9/py/lib/python3.9/site-packages/tensorflow/python/eager/function.py:2453\u001b[0m, in \u001b[0;36mFunction.__call__\u001b[0;34m(self, *args, **kwargs)\u001b[0m\n\u001b[1;32m   2450\u001b[0m \u001b[38;5;28;01mwith\u001b[39;00m \u001b[38;5;28mself\u001b[39m\u001b[38;5;241m.\u001b[39m_lock:\n\u001b[1;32m   2451\u001b[0m   (graph_function,\n\u001b[1;32m   2452\u001b[0m    filtered_flat_args) \u001b[38;5;241m=\u001b[39m \u001b[38;5;28mself\u001b[39m\u001b[38;5;241m.\u001b[39m_maybe_define_function(args, kwargs)\n\u001b[0;32m-> 2453\u001b[0m \u001b[38;5;28;01mreturn\u001b[39;00m \u001b[43mgraph_function\u001b[49m\u001b[38;5;241;43m.\u001b[39;49m\u001b[43m_call_flat\u001b[49m\u001b[43m(\u001b[49m\n\u001b[1;32m   2454\u001b[0m \u001b[43m    \u001b[49m\u001b[43mfiltered_flat_args\u001b[49m\u001b[43m,\u001b[49m\u001b[43m \u001b[49m\u001b[43mcaptured_inputs\u001b[49m\u001b[38;5;241;43m=\u001b[39;49m\u001b[43mgraph_function\u001b[49m\u001b[38;5;241;43m.\u001b[39;49m\u001b[43mcaptured_inputs\u001b[49m\u001b[43m)\u001b[49m\n",
      "File \u001b[0;32m/shared-libs/python3.9/py/lib/python3.9/site-packages/tensorflow/python/eager/function.py:1860\u001b[0m, in \u001b[0;36mConcreteFunction._call_flat\u001b[0;34m(self, args, captured_inputs, cancellation_manager)\u001b[0m\n\u001b[1;32m   1856\u001b[0m possible_gradient_type \u001b[38;5;241m=\u001b[39m gradients_util\u001b[38;5;241m.\u001b[39mPossibleTapeGradientTypes(args)\n\u001b[1;32m   1857\u001b[0m \u001b[38;5;28;01mif\u001b[39;00m (possible_gradient_type \u001b[38;5;241m==\u001b[39m gradients_util\u001b[38;5;241m.\u001b[39mPOSSIBLE_GRADIENT_TYPES_NONE\n\u001b[1;32m   1858\u001b[0m     \u001b[38;5;129;01mand\u001b[39;00m executing_eagerly):\n\u001b[1;32m   1859\u001b[0m   \u001b[38;5;66;03m# No tape is watching; skip to running the function.\u001b[39;00m\n\u001b[0;32m-> 1860\u001b[0m   \u001b[38;5;28;01mreturn\u001b[39;00m \u001b[38;5;28mself\u001b[39m\u001b[38;5;241m.\u001b[39m_build_call_outputs(\u001b[38;5;28;43mself\u001b[39;49m\u001b[38;5;241;43m.\u001b[39;49m\u001b[43m_inference_function\u001b[49m\u001b[38;5;241;43m.\u001b[39;49m\u001b[43mcall\u001b[49m\u001b[43m(\u001b[49m\n\u001b[1;32m   1861\u001b[0m \u001b[43m      \u001b[49m\u001b[43mctx\u001b[49m\u001b[43m,\u001b[49m\u001b[43m \u001b[49m\u001b[43margs\u001b[49m\u001b[43m,\u001b[49m\u001b[43m \u001b[49m\u001b[43mcancellation_manager\u001b[49m\u001b[38;5;241;43m=\u001b[39;49m\u001b[43mcancellation_manager\u001b[49m\u001b[43m)\u001b[49m)\n\u001b[1;32m   1862\u001b[0m forward_backward \u001b[38;5;241m=\u001b[39m \u001b[38;5;28mself\u001b[39m\u001b[38;5;241m.\u001b[39m_select_forward_and_backward_functions(\n\u001b[1;32m   1863\u001b[0m     args,\n\u001b[1;32m   1864\u001b[0m     possible_gradient_type,\n\u001b[1;32m   1865\u001b[0m     executing_eagerly)\n\u001b[1;32m   1866\u001b[0m forward_function, args_with_tangents \u001b[38;5;241m=\u001b[39m forward_backward\u001b[38;5;241m.\u001b[39mforward()\n",
      "File \u001b[0;32m/shared-libs/python3.9/py/lib/python3.9/site-packages/tensorflow/python/eager/function.py:497\u001b[0m, in \u001b[0;36m_EagerDefinedFunction.call\u001b[0;34m(self, ctx, args, cancellation_manager)\u001b[0m\n\u001b[1;32m    495\u001b[0m \u001b[38;5;28;01mwith\u001b[39;00m _InterpolateFunctionError(\u001b[38;5;28mself\u001b[39m):\n\u001b[1;32m    496\u001b[0m   \u001b[38;5;28;01mif\u001b[39;00m cancellation_manager \u001b[38;5;129;01mis\u001b[39;00m \u001b[38;5;28;01mNone\u001b[39;00m:\n\u001b[0;32m--> 497\u001b[0m     outputs \u001b[38;5;241m=\u001b[39m \u001b[43mexecute\u001b[49m\u001b[38;5;241;43m.\u001b[39;49m\u001b[43mexecute\u001b[49m\u001b[43m(\u001b[49m\n\u001b[1;32m    498\u001b[0m \u001b[43m        \u001b[49m\u001b[38;5;28;43mstr\u001b[39;49m\u001b[43m(\u001b[49m\u001b[38;5;28;43mself\u001b[39;49m\u001b[38;5;241;43m.\u001b[39;49m\u001b[43msignature\u001b[49m\u001b[38;5;241;43m.\u001b[39;49m\u001b[43mname\u001b[49m\u001b[43m)\u001b[49m\u001b[43m,\u001b[49m\n\u001b[1;32m    499\u001b[0m \u001b[43m        \u001b[49m\u001b[43mnum_outputs\u001b[49m\u001b[38;5;241;43m=\u001b[39;49m\u001b[38;5;28;43mself\u001b[39;49m\u001b[38;5;241;43m.\u001b[39;49m\u001b[43m_num_outputs\u001b[49m\u001b[43m,\u001b[49m\n\u001b[1;32m    500\u001b[0m \u001b[43m        \u001b[49m\u001b[43minputs\u001b[49m\u001b[38;5;241;43m=\u001b[39;49m\u001b[43margs\u001b[49m\u001b[43m,\u001b[49m\n\u001b[1;32m    501\u001b[0m \u001b[43m        \u001b[49m\u001b[43mattrs\u001b[49m\u001b[38;5;241;43m=\u001b[39;49m\u001b[43mattrs\u001b[49m\u001b[43m,\u001b[49m\n\u001b[1;32m    502\u001b[0m \u001b[43m        \u001b[49m\u001b[43mctx\u001b[49m\u001b[38;5;241;43m=\u001b[39;49m\u001b[43mctx\u001b[49m\u001b[43m)\u001b[49m\n\u001b[1;32m    503\u001b[0m   \u001b[38;5;28;01melse\u001b[39;00m:\n\u001b[1;32m    504\u001b[0m     outputs \u001b[38;5;241m=\u001b[39m execute\u001b[38;5;241m.\u001b[39mexecute_with_cancellation(\n\u001b[1;32m    505\u001b[0m         \u001b[38;5;28mstr\u001b[39m(\u001b[38;5;28mself\u001b[39m\u001b[38;5;241m.\u001b[39msignature\u001b[38;5;241m.\u001b[39mname),\n\u001b[1;32m    506\u001b[0m         num_outputs\u001b[38;5;241m=\u001b[39m\u001b[38;5;28mself\u001b[39m\u001b[38;5;241m.\u001b[39m_num_outputs,\n\u001b[0;32m   (...)\u001b[0m\n\u001b[1;32m    509\u001b[0m         ctx\u001b[38;5;241m=\u001b[39mctx,\n\u001b[1;32m    510\u001b[0m         cancellation_manager\u001b[38;5;241m=\u001b[39mcancellation_manager)\n",
      "File \u001b[0;32m/shared-libs/python3.9/py/lib/python3.9/site-packages/tensorflow/python/eager/execute.py:54\u001b[0m, in \u001b[0;36mquick_execute\u001b[0;34m(op_name, num_outputs, inputs, attrs, ctx, name)\u001b[0m\n\u001b[1;32m     52\u001b[0m \u001b[38;5;28;01mtry\u001b[39;00m:\n\u001b[1;32m     53\u001b[0m   ctx\u001b[38;5;241m.\u001b[39mensure_initialized()\n\u001b[0;32m---> 54\u001b[0m   tensors \u001b[38;5;241m=\u001b[39m \u001b[43mpywrap_tfe\u001b[49m\u001b[38;5;241;43m.\u001b[39;49m\u001b[43mTFE_Py_Execute\u001b[49m\u001b[43m(\u001b[49m\u001b[43mctx\u001b[49m\u001b[38;5;241;43m.\u001b[39;49m\u001b[43m_handle\u001b[49m\u001b[43m,\u001b[49m\u001b[43m \u001b[49m\u001b[43mdevice_name\u001b[49m\u001b[43m,\u001b[49m\u001b[43m \u001b[49m\u001b[43mop_name\u001b[49m\u001b[43m,\u001b[49m\n\u001b[1;32m     55\u001b[0m \u001b[43m                                      \u001b[49m\u001b[43minputs\u001b[49m\u001b[43m,\u001b[49m\u001b[43m \u001b[49m\u001b[43mattrs\u001b[49m\u001b[43m,\u001b[49m\u001b[43m \u001b[49m\u001b[43mnum_outputs\u001b[49m\u001b[43m)\u001b[49m\n\u001b[1;32m     56\u001b[0m \u001b[38;5;28;01mexcept\u001b[39;00m core\u001b[38;5;241m.\u001b[39m_NotOkStatusException \u001b[38;5;28;01mas\u001b[39;00m e:\n\u001b[1;32m     57\u001b[0m   \u001b[38;5;28;01mif\u001b[39;00m name \u001b[38;5;129;01mis\u001b[39;00m \u001b[38;5;129;01mnot\u001b[39;00m \u001b[38;5;28;01mNone\u001b[39;00m:\n",
      "\u001b[0;31mKeyboardInterrupt\u001b[0m: "
     ]
    }
   ],
   "execution_count": 30
  },
  {
   "cell_type": "code",
   "source": "y_predicted = np.where(predicted>0.5,1,0)",
   "metadata": {
    "cell_id": "be2ebe3bd6df42b68a45a9bf3a6b1edb",
    "tags": [],
    "deepnote_cell_type": "code",
    "deepnote_cell_height": 61
   },
   "outputs": [],
   "execution_count": null
  },
  {
   "cell_type": "code",
   "source": "y_predicted = y_predicted.reshape((1,3263))[0]",
   "metadata": {
    "cell_id": "230ad2dbb2ce49b69e1be45e7d010725",
    "tags": [],
    "deepnote_cell_type": "code",
    "deepnote_cell_height": 61
   },
   "outputs": [],
   "execution_count": null
  },
  {
   "cell_type": "code",
   "source": "sample_data['id'] = test_data.id\nsample_data['target'] = y_predicted",
   "metadata": {
    "cell_id": "a135e4e49648488eb18ce9a757aeadac",
    "tags": [],
    "deepnote_cell_type": "code",
    "deepnote_cell_height": 79
   },
   "outputs": [],
   "execution_count": null
  },
  {
   "cell_type": "markdown",
   "source": "<a style='text-decoration:none;line-height:16px;display:flex;color:#5B5B62;padding:10px;justify-content:end;' href='https://deepnote.com?utm_source=created-in-deepnote-cell&projectId=a136f39d-34ff-4fab-95a4-ccd9983de5a7' target=\"_blank\">\n<img alt='Created in deepnote.com' style='display:inline;max-height:16px;margin:0px;margin-right:7.5px;' src='data:image/svg+xml;base64,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' > </img>\nCreated in <span style='font-weight:600;margin-left:4px;'>Deepnote</span></a>",
   "metadata": {
    "tags": [],
    "created_in_deepnote_cell": true,
    "deepnote_cell_type": "markdown"
   }
  }
 ],
 "nbformat": 4,
 "nbformat_minor": 2,
 "metadata": {
  "orig_nbformat": 2,
  "deepnote": {},
  "deepnote_notebook_id": "11f2bb18-28fd-4c59-9f07-97b9c98522c0",
  "deepnote_execution_queue": []
 }
}