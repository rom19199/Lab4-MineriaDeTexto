{
 "cells": [
  {
   "cell_type": "markdown",
   "source": "# Lab 4 - Minería de texto",
   "metadata": {
    "formattedRanges": [],
    "is_collapsed": false,
    "cell_id": "f9bea3ade79f4a7ca6d5490107846da6",
    "tags": [],
    "deepnote_cell_type": "text-cell-h1"
   }
  },
  {
   "cell_type": "code",
   "source": "#Librerías\nimport pandas as pd\nimport preprocessor as p\nimport re\nimport nltk\nimport string \nimport seaborn as sns\nfrom matplotlib import pyplot as plt\nfrom nltk.corpus import stopwords\nfrom nltk.tokenize import word_tokenize  \nfrom nltk.stem.porter import PorterStemmer\nfrom nltk.stem import WordNetLemmatizer\nfrom nltk import FreqDist\nfrom sklearn.feature_extraction.text import CountVectorizer\nfrom keras.preprocessing.text import Tokenizer\nfrom transformers import AutoTokenizer,TFBertModel\nimport numpy as np\nimport tensorflow as tf\nfrom sklearn.model_selection import train_test_split\nfrom sklearn.linear_model import LogisticRegression\nfrom sklearn.naive_bayes import MultinomialNB\nfrom sklearn.metrics import classification_report, f1_score, accuracy_score, confusion_matrix\nfrom sklearn.metrics import roc_curve, auc, roc_auc_score\n\nfrom sklearn.feature_extraction.text import TfidfVectorizer\nfrom sklearn.feature_extraction.text import CountVectorizer\nfrom tensorflow.keras.layers import Input, Dense\nimport gensim\nfrom gensim.models import Word2Vec",
   "metadata": {
    "tags": [],
    "cell_id": "3ec20f55-ffc0-4a0c-a774-f6406c1bf7d8",
    "deepnote_to_be_reexecuted": false,
    "source_hash": "ec1d9a29",
    "execution_start": 1662097029322,
    "execution_millis": 18238,
    "deepnote_cell_type": "code",
    "deepnote_cell_height": 672.4375
   },
   "execution_count": 2,
   "outputs": [
    {
     "name": "stderr",
     "text": "2022-09-02 05:37:14.339681: W tensorflow/stream_executor/platform/default/dso_loader.cc:64] Could not load dynamic library 'libcudart.so.11.0'; dlerror: libcudart.so.11.0: cannot open shared object file: No such file or directory\n2022-09-02 05:37:14.339860: I tensorflow/stream_executor/cuda/cudart_stub.cc:29] Ignore above cudart dlerror if you do not have a GPU set up on your machine.\n/shared-libs/python3.9/py/lib/python3.9/site-packages/tqdm/auto.py:22: TqdmWarning: IProgress not found. Please update jupyter and ipywidgets. See https://ipywidgets.readthedocs.io/en/stable/user_install.html\n  from .autonotebook import tqdm as notebook_tqdm\n",
     "output_type": "stream"
    }
   ]
  },
  {
   "cell_type": "code",
   "metadata": {
    "cell_id": "27c9de659b504ead9e85cdcb1570b5ed",
    "tags": [],
    "deepnote_to_be_reexecuted": false,
    "source_hash": "c0eb7a7c",
    "execution_start": 1662097047569,
    "execution_millis": 40,
    "deepnote_cell_type": "code",
    "deepnote_cell_height": 76.15625
   },
   "source": "train = pd.read_csv('train.csv',encoding = \"ISO-8859-1\")",
   "execution_count": 3,
   "outputs": []
  },
  {
   "cell_type": "markdown",
   "source": "## Análisis exploratorio",
   "metadata": {
    "formattedRanges": [],
    "is_collapsed": false,
    "cell_id": "f54e039603314cf1a9dc4aa470717493",
    "tags": [],
    "deepnote_cell_type": "text-cell-h2"
   }
  },
  {
   "cell_type": "code",
   "metadata": {
    "cell_id": "0a86b85295974916865890c56518f6e6",
    "tags": [],
    "deepnote_to_be_reexecuted": false,
    "source_hash": "c2ad303d",
    "execution_start": 1662096454168,
    "execution_millis": 35,
    "deepnote_cell_type": "code",
    "deepnote_cell_height": 208.359375,
    "deepnote_output_heights": [
     116.09375
    ]
   },
   "source": "train['text'].head()",
   "outputs": [
    {
     "output_type": "execute_result",
     "execution_count": 3,
     "data": {
      "text/plain": "0    Our Deeds are the Reason of this #earthquake M...\n1               Forest fire near La Ronge Sask. Canada\n2    All residents asked to 'shelter in place' are ...\n3    13,000 people receive #wildfires evacuation or...\n4    Just got sent this photo from Ruby #Alaska as ...\nName: text, dtype: object"
     },
     "metadata": {}
    }
   ],
   "execution_count": null
  },
  {
   "cell_type": "code",
   "source": "train.isna().sum()",
   "metadata": {
    "cell_id": "d6b6d4ee95694572b1ff743f2d24a06c",
    "tags": [],
    "deepnote_to_be_reexecuted": false,
    "source_hash": "993ab2a5",
    "execution_start": 1662096454207,
    "execution_millis": 26,
    "deepnote_cell_type": "code",
    "deepnote_cell_height": 208.359375,
    "deepnote_output_heights": [
     116.09375
    ]
   },
   "outputs": [
    {
     "output_type": "execute_result",
     "execution_count": 4,
     "data": {
      "text/plain": "id             0\nkeyword       61\nlocation    2533\ntext           0\ntarget         0\ndtype: int64"
     },
     "metadata": {}
    }
   ],
   "execution_count": null
  },
  {
   "cell_type": "code",
   "source": "x=train['target'].value_counts()\nprint(x)\nsns.barplot(x.index,x)",
   "metadata": {
    "cell_id": "27420c1aefb24a90959f6f492ed8b118",
    "tags": [],
    "deepnote_to_be_reexecuted": false,
    "source_hash": "2221debc",
    "execution_start": 1662096454236,
    "execution_millis": 462,
    "deepnote_cell_type": "code",
    "deepnote_cell_height": 554.953125,
    "deepnote_output_heights": [
     null,
     20.171875,
     248.96875
    ]
   },
   "outputs": [
    {
     "name": "stdout",
     "text": "0    4342\n1    3271\nName: target, dtype: int64\n/shared-libs/python3.9/py/lib/python3.9/site-packages/seaborn/_decorators.py:36: FutureWarning: Pass the following variables as keyword args: x, y. From version 0.12, the only valid positional argument will be `data`, and passing other arguments without an explicit keyword will result in an error or misinterpretation.\n  warnings.warn(\n",
     "output_type": "stream"
    },
    {
     "output_type": "execute_result",
     "execution_count": 5,
     "data": {
      "text/plain": "<AxesSubplot:ylabel='target'>"
     },
     "metadata": {}
    },
    {
     "data": {
      "text/plain": "<Figure size 432x288 with 1 Axes>",
      "image/png": "[encoded data removed]"
     },
     "metadata": {
      "needs_background": "light",
      "image/png": {
       "width": 395,
       "height": 248
      }
     },
     "output_type": "display_data"
    }
   ],
   "execution_count": null
  },
  {
   "cell_type": "code",
   "metadata": {
    "cell_id": "36b8a1a619344f07b06240710b6b9008",
    "tags": [],
    "deepnote_to_be_reexecuted": false,
    "source_hash": "79db539c",
    "execution_start": 1662096454714,
    "execution_millis": 33,
    "deepnote_cell_type": "code",
    "deepnote_cell_height": 94.15625
   },
   "source": "train = train.dropna()\ntrain = train.drop_duplicates()",
   "outputs": [],
   "execution_count": null
  },
  {
   "cell_type": "code",
   "source": "train['word_count'] = train['text'].apply(lambda x: len(str(x).split()))\n\nfig,(ax1,ax2)=plt.subplots(1,2,figsize=(10,4))\ntrain_words=train[train['target']==1]['word_count']\nax1.hist(train_words,color='blue')\nax1.set_title('Disaster tweets')\ntrain_words=train[train['target']==0]['word_count']\nax2.hist(train_words,color='yellow')\nax2.set_title('Non-disaster tweets')\nfig.suptitle('Words per tweet')\nplt.show()",
   "metadata": {
    "cell_id": "0c4cf9b543234486b121aca4f392e502",
    "tags": [],
    "deepnote_to_be_reexecuted": false,
    "source_hash": "a6b550b1",
    "execution_start": 1662096888168,
    "execution_millis": 832,
    "deepnote_cell_type": "code",
    "deepnote_cell_height": 550.234375,
    "deepnote_output_heights": [
     277.984375,
     252.984375
    ]
   },
   "outputs": [
    {
     "data": {
      "text/plain": "<Figure size 720x288 with 2 Axes>",
      "image/png": "[encoded data removed]"
     },
     "metadata": {
      "needs_background": "light",
      "image/png": {
       "width": 598,
       "height": 277
      }
     },
     "output_type": "display_data"
    }
   ],
   "execution_count": null
  },
  {
   "cell_type": "code",
   "metadata": {
    "cell_id": "1ad6b22f2e3b48d298c59fa4c8609bd8",
    "tags": [],
    "deepnote_to_be_reexecuted": false,
    "source_hash": "e1f0b45",
    "execution_start": 1662096454757,
    "execution_millis": 128,
    "deepnote_cell_type": "code",
    "deepnote_cell_height": 390.28125
   },
   "source": "train.head()",
   "outputs": [
    {
     "output_type": "execute_result",
     "execution_count": 7,
     "data": {
      "application/vnd.deepnote.dataframe.v3+json": {
       "column_count": 5,
       "row_count": 5,
       "columns": [
        {
         "name": "id",
         "dtype": "int64",
         "stats": {
          "unique_count": 5,
          "nan_count": 0,
          "min": "48",
          "max": "53",
          "histogram": [
           {
            "bin_start": 48,
            "bin_end": 48.5,
            "count": 1
           },
           {
            "bin_start": 48.5,
            "bin_end": 49,
            "count": 0
           },
           {
            "bin_start": 49,
            "bin_end": 49.5,
            "count": 1
           },
           {
            "bin_start": 49.5,
            "bin_end": 50,
            "count": 0
           },
           {
            "bin_start": 50,
            "bin_end": 50.5,
            "count": 1
           },
           {
            "bin_start": 50.5,
            "bin_end": 51,
            "count": 0
           },
           {
            "bin_start": 51,
            "bin_end": 51.5,
            "count": 0
           },
           {
            "bin_start": 51.5,
            "bin_end": 52,
            "count": 0
           },
           {
            "bin_start": 52,
            "bin_end": 52.5,
            "count": 1
           },
           {
            "bin_start": 52.5,
            "bin_end": 53,
            "count": 1
           }
          ]
         }
        },
        {
         "name": "keyword",
         "dtype": "object",
         "stats": {
          "unique_count": 1,
          "nan_count": 0,
          "categories": [
           {
            "name": "ablaze",
            "count": 5
           }
          ]
         }
        },
        {
         "name": "location",
         "dtype": "object",
         "stats": {
          "unique_count": 5,
          "nan_count": 0,
          "categories": [
           {
            "name": "Birmingham",
            "count": 1
           },
           {
            "name": "Est. September 2012 - Bristol",
            "count": 1
           },
           {
            "name": "3 others",
            "count": 3
           }
          ]
         }
        },
        {
         "name": "text",
         "dtype": "object",
         "stats": {
          "unique_count": 5,
          "nan_count": 0,
          "categories": [
           {
            "name": "@bbcmtd Wholesale Markets ablaze http://t.co/lHYXEOHY6C",
            "count": 1
           },
           {
            "name": "We always try to bring the heavy. #metal #RT http://t.co/YAo1e0xngw",
            "count": 1
           },
           {
            "name": "3 others",
            "count": 3
           }
          ]
         }
        },
        {
         "name": "target",
         "dtype": "int64",
         "stats": {
          "unique_count": 2,
          "nan_count": 0,
          "min": "0",
          "max": "1",
          "histogram": [
           {
            "bin_start": 0,
            "bin_end": 0.1,
            "count": 3
           },
           {
            "bin_start": 0.1,
            "bin_end": 0.2,
            "count": 0
           },
           {
            "bin_start": 0.2,
            "bin_end": 0.30000000000000004,
            "count": 0
           },
           {
            "bin_start": 0.30000000000000004,
            "bin_end": 0.4,
            "count": 0
           },
           {
            "bin_start": 0.4,
            "bin_end": 0.5,
            "count": 0
           },
           {
            "bin_start": 0.5,
            "bin_end": 0.6000000000000001,
            "count": 0
           },
           {
            "bin_start": 0.6000000000000001,
            "bin_end": 0.7000000000000001,
            "count": 0
           },
           {
            "bin_start": 0.7000000000000001,
            "bin_end": 0.8,
            "count": 0
           },
           {
            "bin_start": 0.8,
            "bin_end": 0.9,
            "count": 0
           },
           {
            "bin_start": 0.9,
            "bin_end": 1,
            "count": 2
           }
          ]
         }
        },
        {
         "name": "_deepnote_index_column",
         "dtype": "int64"
        }
       ],
       "rows": [
        {
         "id": "48",
         "keyword": "ablaze",
         "location": "Birmingham",
         "text": "@bbcmtd Wholesale Markets ablaze http://t.co/lHYXEOHY6C",
         "target": "1",
         "_deepnote_index_column": "31"
        },
        {
         "id": "49",
         "keyword": "ablaze",
         "location": "Est. September 2012 - Bristol",
         "text": "We always try to bring the heavy. #metal #RT http://t.co/YAo1e0xngw",
         "target": "0",
         "_deepnote_index_column": "32"
        },
        {
         "id": "50",
         "keyword": "ablaze",
         "location": "AFRICA",
         "text": "#AFRICANBAZE: Breaking news:Nigeria flag set ablaze in Aba. http://t.co/2nndBGwyEi",
         "target": "1",
         "_deepnote_index_column": "33"
        },
        {
         "id": "52",
         "keyword": "ablaze",
         "location": "Philadelphia, PA",
         "text": "Crying out for more! Set me ablaze",
         "target": "0",
         "_deepnote_index_column": "34"
        },
        {
         "id": "53",
         "keyword": "ablaze",
         "location": "London, UK",
         "text": "On plus side LOOK AT THE SKY LAST NIGHT IT WAS ABLAZE http://t.co/qqsmshaJ3N",
         "target": "0",
         "_deepnote_index_column": "35"
        }
       ]
      },
      "text/plain": "    id keyword                       location  \\\n31  48  ablaze                     Birmingham   \n32  49  ablaze  Est. September 2012 - Bristol   \n33  50  ablaze                         AFRICA   \n34  52  ablaze               Philadelphia, PA   \n35  53  ablaze                     London, UK   \n\n                                                 text  target  \n31  @bbcmtd Wholesale Markets ablaze http://t.co/l...       1  \n32  We always try to bring the heavy. #metal #RT h...       0  \n33  #AFRICANBAZE: Breaking news:Nigeria flag set a...       1  \n34                 Crying out for more! Set me ablaze       0  \n35  On plus side LOOK AT THE SKY LAST NIGHT IT WAS...       0  ",
      "text/html": "<div>\n<style scoped>\n    .dataframe tbody tr th:only-of-type {\n        vertical-align: middle;\n    }\n\n    .dataframe tbody tr th {\n        vertical-align: top;\n    }\n\n    .dataframe thead th {\n        text-align: right;\n    }\n</style>\n<table border=\"1\" class=\"dataframe\">\n  <thead>\n    <tr style=\"text-align: right;\">\n      <th></th>\n      <th>id</th>\n      <th>keyword</th>\n      <th>location</th>\n      <th>text</th>\n      <th>target</th>\n    </tr>\n  </thead>\n  <tbody>\n    <tr>\n      <th>31</th>\n      <td>48</td>\n      <td>ablaze</td>\n      <td>Birmingham</td>\n      <td>@bbcmtd Wholesale Markets ablaze http://t.co/l...</td>\n      <td>1</td>\n    </tr>\n    <tr>\n      <th>32</th>\n      <td>49</td>\n      <td>ablaze</td>\n      <td>Est. September 2012 - Bristol</td>\n      <td>We always try to bring the heavy. #metal #RT h...</td>\n      <td>0</td>\n    </tr>\n    <tr>\n      <th>33</th>\n      <td>50</td>\n      <td>ablaze</td>\n      <td>AFRICA</td>\n      <td>#AFRICANBAZE: Breaking news:Nigeria flag set a...</td>\n      <td>1</td>\n    </tr>\n    <tr>\n      <th>34</th>\n      <td>52</td>\n      <td>ablaze</td>\n      <td>Philadelphia, PA</td>\n      <td>Crying out for more! Set me ablaze</td>\n      <td>0</td>\n    </tr>\n    <tr>\n      <th>35</th>\n      <td>53</td>\n      <td>ablaze</td>\n      <td>London, UK</td>\n      <td>On plus side LOOK AT THE SKY LAST NIGHT IT WAS...</td>\n      <td>0</td>\n    </tr>\n  </tbody>\n</table>\n</div>"
     },
     "metadata": {}
    }
   ],
   "execution_count": null
  },
  {
   "cell_type": "code",
   "metadata": {
    "cell_id": "e5ed2b2ec14b4fc18741566101247b90",
    "tags": [],
    "deepnote_to_be_reexecuted": false,
    "source_hash": "8306bde4",
    "execution_start": 1662096454884,
    "execution_millis": 17,
    "deepnote_cell_type": "code",
    "deepnote_cell_height": 112.421875,
    "deepnote_output_heights": [
     20.171875
    ]
   },
   "source": "train.text[train.text.str.contains('911')].count()",
   "outputs": [
    {
     "output_type": "execute_result",
     "execution_count": 8,
     "data": {
      "text/plain": "10"
     },
     "metadata": {}
    }
   ],
   "execution_count": null
  },
  {
   "cell_type": "code",
   "source": "punct = set(string.punctuation) \n\ndef preprocess_tweet(row):\n    text = row['text']\n    #Removing unicodes\n    text = text.encode(encoding=\"ascii\", errors=\"ignore\")\n    text = text.decode()\n    text = \" \".join([word for word in text.split()])\n    #Removing URLs, Hashtags, Punctuation, Mentions, etc.\n    text = re.sub(\"@\\S+\", \"\", text)\n    text = re.sub(\"\\$\", \"\", text)\n    text = re.sub(\"https?:\\/\\/.*[\\r\\n]*\", \"\", text)\n    text = re.sub(\"#\", \"\", text)\n    text = \"\".join([ch for ch in text if ch not in punct])\n    if '911' not in text:\n        text = ''.join([i for i in text if not i.isdigit()])\n    return text\n    \ntrain['text'] = train.apply(preprocess_tweet, axis=1)",
   "metadata": {
    "cell_id": "e967f9d599194dd5be30eb816cfa3789",
    "tags": [],
    "deepnote_to_be_reexecuted": false,
    "source_hash": "cdf4d7e5",
    "execution_start": 1662096454918,
    "execution_millis": 430,
    "deepnote_cell_type": "code",
    "deepnote_cell_height": 472.15625
   },
   "outputs": [],
   "execution_count": null
  },
  {
   "cell_type": "code",
   "metadata": {
    "cell_id": "87edb7dd340b42f99d5fe96b27bfbff4",
    "tags": [],
    "deepnote_to_be_reexecuted": false,
    "source_hash": "8306bde4",
    "execution_start": 1662096455351,
    "execution_millis": 25,
    "deepnote_cell_type": "code",
    "deepnote_cell_height": 112.421875,
    "deepnote_output_heights": [
     20.171875
    ]
   },
   "source": "train.text[train.text.str.contains('911')].count()",
   "outputs": [
    {
     "output_type": "execute_result",
     "execution_count": 10,
     "data": {
      "text/plain": "10"
     },
     "metadata": {}
    }
   ],
   "execution_count": null
  },
  {
   "cell_type": "code",
   "metadata": {
    "cell_id": "fcae6bc048cf4f0f99e84c75766db8e2",
    "tags": [],
    "deepnote_to_be_reexecuted": false,
    "source_hash": "1febcce2",
    "execution_start": 1662096455379,
    "execution_millis": 43,
    "deepnote_cell_type": "code",
    "deepnote_cell_height": 408.296875
   },
   "source": "train.head()\n",
   "outputs": [
    {
     "output_type": "execute_result",
     "execution_count": 11,
     "data": {
      "application/vnd.deepnote.dataframe.v3+json": {
       "column_count": 5,
       "row_count": 5,
       "columns": [
        {
         "name": "id",
         "dtype": "int64",
         "stats": {
          "unique_count": 5,
          "nan_count": 0,
          "min": "48",
          "max": "53",
          "histogram": [
           {
            "bin_start": 48,
            "bin_end": 48.5,
            "count": 1
           },
           {
            "bin_start": 48.5,
            "bin_end": 49,
            "count": 0
           },
           {
            "bin_start": 49,
            "bin_end": 49.5,
            "count": 1
           },
           {
            "bin_start": 49.5,
            "bin_end": 50,
            "count": 0
           },
           {
            "bin_start": 50,
            "bin_end": 50.5,
            "count": 1
           },
           {
            "bin_start": 50.5,
            "bin_end": 51,
            "count": 0
           },
           {
            "bin_start": 51,
            "bin_end": 51.5,
            "count": 0
           },
           {
            "bin_start": 51.5,
            "bin_end": 52,
            "count": 0
           },
           {
            "bin_start": 52,
            "bin_end": 52.5,
            "count": 1
           },
           {
            "bin_start": 52.5,
            "bin_end": 53,
            "count": 1
           }
          ]
         }
        },
        {
         "name": "keyword",
         "dtype": "object",
         "stats": {
          "unique_count": 1,
          "nan_count": 0,
          "categories": [
           {
            "name": "ablaze",
            "count": 5
           }
          ]
         }
        },
        {
         "name": "location",
         "dtype": "object",
         "stats": {
          "unique_count": 5,
          "nan_count": 0,
          "categories": [
           {
            "name": "Birmingham",
            "count": 1
           },
           {
            "name": "Est. September 2012 - Bristol",
            "count": 1
           },
           {
            "name": "3 others",
            "count": 3
           }
          ]
         }
        },
        {
         "name": "text",
         "dtype": "object",
         "stats": {
          "unique_count": 5,
          "nan_count": 0,
          "categories": [
           {
            "name": " Wholesale Markets ablaze ",
            "count": 1
           },
           {
            "name": "We always try to bring the heavy metal RT ",
            "count": 1
           },
           {
            "name": "3 others",
            "count": 3
           }
          ]
         }
        },
        {
         "name": "target",
         "dtype": "int64",
         "stats": {
          "unique_count": 2,
          "nan_count": 0,
          "min": "0",
          "max": "1",
          "histogram": [
           {
            "bin_start": 0,
            "bin_end": 0.1,
            "count": 3
           },
           {
            "bin_start": 0.1,
            "bin_end": 0.2,
            "count": 0
           },
           {
            "bin_start": 0.2,
            "bin_end": 0.30000000000000004,
            "count": 0
           },
           {
            "bin_start": 0.30000000000000004,
            "bin_end": 0.4,
            "count": 0
           },
           {
            "bin_start": 0.4,
            "bin_end": 0.5,
            "count": 0
           },
           {
            "bin_start": 0.5,
            "bin_end": 0.6000000000000001,
            "count": 0
           },
           {
            "bin_start": 0.6000000000000001,
            "bin_end": 0.7000000000000001,
            "count": 0
           },
           {
            "bin_start": 0.7000000000000001,
            "bin_end": 0.8,
            "count": 0
           },
           {
            "bin_start": 0.8,
            "bin_end": 0.9,
            "count": 0
           },
           {
            "bin_start": 0.9,
            "bin_end": 1,
            "count": 2
           }
          ]
         }
        },
        {
         "name": "_deepnote_index_column",
         "dtype": "int64"
        }
       ],
       "rows": [
        {
         "id": "48",
         "keyword": "ablaze",
         "location": "Birmingham",
         "text": " Wholesale Markets ablaze ",
         "target": "1",
         "_deepnote_index_column": "31"
        },
        {
         "id": "49",
         "keyword": "ablaze",
         "location": "Est. September 2012 - Bristol",
         "text": "We always try to bring the heavy metal RT ",
         "target": "0",
         "_deepnote_index_column": "32"
        },
        {
         "id": "50",
         "keyword": "ablaze",
         "location": "AFRICA",
         "text": "AFRICANBAZE Breaking newsNigeria flag set ablaze in Aba ",
         "target": "1",
         "_deepnote_index_column": "33"
        },
        {
         "id": "52",
         "keyword": "ablaze",
         "location": "Philadelphia, PA",
         "text": "Crying out for more Set me ablaze",
         "target": "0",
         "_deepnote_index_column": "34"
        },
        {
         "id": "53",
         "keyword": "ablaze",
         "location": "London, UK",
         "text": "On plus side LOOK AT THE SKY LAST NIGHT IT WAS ABLAZE ",
         "target": "0",
         "_deepnote_index_column": "35"
        }
       ]
      },
      "text/plain": "    id keyword                       location  \\\n31  48  ablaze                     Birmingham   \n32  49  ablaze  Est. September 2012 - Bristol   \n33  50  ablaze                         AFRICA   \n34  52  ablaze               Philadelphia, PA   \n35  53  ablaze                     London, UK   \n\n                                                 text  target  \n31                          Wholesale Markets ablaze        1  \n32         We always try to bring the heavy metal RT        0  \n33  AFRICANBAZE Breaking newsNigeria flag set abla...       1  \n34                  Crying out for more Set me ablaze       0  \n35  On plus side LOOK AT THE SKY LAST NIGHT IT WAS...       0  ",
      "text/html": "<div>\n<style scoped>\n    .dataframe tbody tr th:only-of-type {\n        vertical-align: middle;\n    }\n\n    .dataframe tbody tr th {\n        vertical-align: top;\n    }\n\n    .dataframe thead th {\n        text-align: right;\n    }\n</style>\n<table border=\"1\" class=\"dataframe\">\n  <thead>\n    <tr style=\"text-align: right;\">\n      <th></th>\n      <th>id</th>\n      <th>keyword</th>\n      <th>location</th>\n      <th>text</th>\n      <th>target</th>\n    </tr>\n  </thead>\n  <tbody>\n    <tr>\n      <th>31</th>\n      <td>48</td>\n      <td>ablaze</td>\n      <td>Birmingham</td>\n      <td>Wholesale Markets ablaze</td>\n      <td>1</td>\n    </tr>\n    <tr>\n      <th>32</th>\n      <td>49</td>\n      <td>ablaze</td>\n      <td>Est. September 2012 - Bristol</td>\n      <td>We always try to bring the heavy metal RT</td>\n      <td>0</td>\n    </tr>\n    <tr>\n      <th>33</th>\n      <td>50</td>\n      <td>ablaze</td>\n      <td>AFRICA</td>\n      <td>AFRICANBAZE Breaking newsNigeria flag set abla...</td>\n      <td>1</td>\n    </tr>\n    <tr>\n      <th>34</th>\n      <td>52</td>\n      <td>ablaze</td>\n      <td>Philadelphia, PA</td>\n      <td>Crying out for more Set me ablaze</td>\n      <td>0</td>\n    </tr>\n    <tr>\n      <th>35</th>\n      <td>53</td>\n      <td>ablaze</td>\n      <td>London, UK</td>\n      <td>On plus side LOOK AT THE SKY LAST NIGHT IT WAS...</td>\n      <td>0</td>\n    </tr>\n  </tbody>\n</table>\n</div>"
     },
     "metadata": {}
    }
   ],
   "execution_count": null
  },
  {
   "cell_type": "code",
   "metadata": {
    "cell_id": "568c2a55845c421a809c6a4d7e2ae61e",
    "tags": [],
    "deepnote_to_be_reexecuted": false,
    "source_hash": "a6ad2492",
    "execution_start": 1662096455427,
    "execution_millis": 954,
    "deepnote_cell_type": "code",
    "deepnote_cell_height": 143.625
   },
   "source": "#Remover espacios, puntuación convertir a minuscula de la columna text\ntrain['text'] = train['text'].str.lower().str.replace('[^\\w\\s]',' ').str.replace('\\s\\s+', ' ')",
   "outputs": [
    {
     "name": "stderr",
     "text": "/tmp/ipykernel_1633/3173529442.py:2: FutureWarning: The default value of regex will change from True to False in a future version.\n  train['text'] = train['text'].str.lower().str.replace('[^\\w\\s]',' ').str.replace('\\s\\s+', ' ')\n",
     "output_type": "stream"
    }
   ],
   "execution_count": null
  },
  {
   "cell_type": "code",
   "metadata": {
    "cell_id": "88630088c60b439cba29e7bd9475ec55",
    "tags": [],
    "deepnote_to_be_reexecuted": false,
    "source_hash": "8d791b3a",
    "execution_start": 1662096455511,
    "execution_millis": 2007,
    "deepnote_cell_type": "code",
    "deepnote_cell_height": 451.984375
   },
   "source": "nltk.download('stopwords')\nnltk.download('punkt')\nstop_words = set(stopwords.words('english'))\n\ndef preprocess_stop_words(row):\n    text = row['text']\n    word_tokens = word_tokenize(text)\n    filtered_sentence = [w for w in word_tokens if not w.lower() in stop_words]\n    filtered_sentence = []\n    for w in word_tokens:\n        if w not in stop_words:\n            filtered_sentence.append(w)\n\n    filtered_sentence = ' '.join((str(n) for n in filtered_sentence))\n    return filtered_sentence\n    \ntrain['text'] = train.apply(preprocess_stop_words, axis=1)",
   "outputs": [
    {
     "name": "stderr",
     "text": "[nltk_data] Downloading package stopwords to /root/nltk_data...\n[nltk_data]   Package stopwords is already up-to-date!\n[nltk_data] Downloading package punkt to /root/nltk_data...\n[nltk_data]   Package punkt is already up-to-date!\n",
     "output_type": "stream"
    }
   ],
   "execution_count": null
  },
  {
   "cell_type": "code",
   "source": "#Pasar los verbos a singular y generalizarlos (ej: wrecked -> wreck)\n\nnltk.download('wordnet')\nnltk.download('omw-1.4')\nlemmatizer = WordNetLemmatizer()\nstemmer = PorterStemmer()\n\ndef preprocess_stemming_lemmatization(row):\n    text = row['text']\n    temp = text.split()\n    for w in range(len(temp)):\n        temp[w] = lemmatizer.lemmatize(temp[w])\n        temp[w] = stemmer.stem(temp[w])\n        \n    text = ' '.join((str(n) for n in temp))\n    return text\n\ntrain['text'] = train.apply(preprocess_stemming_lemmatization, axis=1)",
   "metadata": {
    "cell_id": "7f28b58a9baf42c2a7661ea4dba62c87",
    "tags": [],
    "deepnote_to_be_reexecuted": false,
    "source_hash": "6e0541",
    "execution_start": 1662096457523,
    "execution_millis": 7474,
    "deepnote_cell_type": "code",
    "deepnote_cell_height": 470
   },
   "outputs": [
    {
     "name": "stderr",
     "text": "[nltk_data] Downloading package wordnet to /root/nltk_data...\n[nltk_data]   Package wordnet is already up-to-date!\n[nltk_data] Downloading package omw-1.4 to /root/nltk_data...\n[nltk_data]   Package omw-1.4 is already up-to-date!\n",
     "output_type": "stream"
    }
   ],
   "execution_count": null
  },
  {
   "cell_type": "code",
   "metadata": {
    "cell_id": "55e05b94e47443d1bd2a98aff04f3410",
    "tags": [],
    "deepnote_to_be_reexecuted": false,
    "source_hash": "32448a18",
    "execution_start": 1662096465004,
    "execution_millis": 19,
    "deepnote_cell_type": "code",
    "deepnote_cell_height": 323.453125,
    "deepnote_output_heights": [
     231.1875
    ]
   },
   "source": "train['text']",
   "outputs": [
    {
     "output_type": "execute_result",
     "execution_count": 15,
     "data": {
      "text/plain": "31                                  wholesal market ablaz\n32                         alway tri bring heavi metal rt\n33        africanbaz break newsnigeria flag set ablaz aba\n34                                          cri set ablaz\n35                     plu side look sky last night ablaz\n                              ...                        \n7575                                    bright side wreck\n7577    he gone relax thought wife wreck cake goner mi...\n7579    three day work theyv pretti much wreck hahaha ...\n7580    fx forex trade cramer iger word wreck disney s...\n7581    great atmospher british lion gig tonight hear ...\nName: text, Length: 5080, dtype: object"
     },
     "metadata": {}
    }
   ],
   "execution_count": null
  },
  {
   "cell_type": "code",
   "source": "#Frecuencia de palabras cuando es un desastre natural\ndesTrain = pd.DataFrame(train[train['target'] == 1].text.str.split(expand=True).stack().value_counts().nlargest(15), columns=['count'])\nax = desTrain.reset_index().plot.bar(x='index', y='count')",
   "metadata": {
    "cell_id": "9ee4a1579cde4af4a79f80697f58f498",
    "tags": [],
    "deepnote_to_be_reexecuted": false,
    "source_hash": "6a75a2a1",
    "execution_start": 1662096465032,
    "execution_millis": 752,
    "deepnote_cell_type": "code",
    "deepnote_cell_height": 433.234375,
    "deepnote_output_heights": [
     299.96875
    ]
   },
   "outputs": [
    {
     "data": {
      "text/plain": "<Figure size 432x288 with 1 Axes>",
      "image/png": "[encoded data removed]"
     },
     "metadata": {
      "needs_background": "light",
      "image/png": {
       "width": 375,
       "height": 299
      }
     },
     "output_type": "display_data"
    }
   ],
   "execution_count": null
  },
  {
   "cell_type": "code",
   "source": "#Frecuencia de palabras cuando es metaforico\nmetaTrain = pd.DataFrame(train[train['target'] == 0].text.str.split(expand=True).stack().value_counts().nlargest(10), columns=['count'])\nax = metaTrain.reset_index().plot.bar(x='index', y='count')",
   "metadata": {
    "cell_id": "0f937186ac444d588f91e5066a6e6010",
    "tags": [],
    "deepnote_to_be_reexecuted": false,
    "source_hash": "48244023",
    "execution_start": 1662096465733,
    "execution_millis": 486,
    "deepnote_cell_type": "code",
    "deepnote_cell_height": 409.25,
    "deepnote_output_heights": [
     275.984375
    ]
   },
   "outputs": [
    {
     "data": {
      "text/plain": "<Figure size 432x288 with 1 Axes>",
      "image/png": "[encoded data removed]"
     },
     "metadata": {
      "needs_background": "light",
      "image/png": {
       "width": 375,
       "height": 275
      }
     },
     "output_type": "display_data"
    }
   ],
   "execution_count": null
  },
  {
   "cell_type": "code",
   "source": "#Palabras que aparecen en ambas categorias\nmetaTrain[~metaTrain.isin(desTrain)].dropna()",
   "metadata": {
    "cell_id": "cafb2bcdb843421aa54b5d86a662d1bb",
    "tags": [],
    "deepnote_to_be_reexecuted": false,
    "source_hash": "a946f1ed",
    "execution_start": 1662096466224,
    "execution_millis": 38,
    "deepnote_cell_type": "code",
    "deepnote_cell_height": 613.234375
   },
   "outputs": [
    {
     "output_type": "execute_result",
     "execution_count": 18,
     "data": {
      "application/vnd.deepnote.dataframe.v3+json": {
       "column_count": 1,
       "row_count": 10,
       "columns": [
        {
         "name": "count",
         "dtype": "int64",
         "stats": {
          "unique_count": 9,
          "nan_count": 0,
          "min": "75",
          "max": "195",
          "histogram": [
           {
            "bin_start": 75,
            "bin_end": 87,
            "count": 1
           },
           {
            "bin_start": 87,
            "bin_end": 99,
            "count": 3
           },
           {
            "bin_start": 99,
            "bin_end": 111,
            "count": 1
           },
           {
            "bin_start": 111,
            "bin_end": 123,
            "count": 1
           },
           {
            "bin_start": 123,
            "bin_end": 135,
            "count": 1
           },
           {
            "bin_start": 135,
            "bin_end": 147,
            "count": 1
           },
           {
            "bin_start": 147,
            "bin_end": 159,
            "count": 0
           },
           {
            "bin_start": 159,
            "bin_end": 171,
            "count": 0
           },
           {
            "bin_start": 171,
            "bin_end": 183,
            "count": 1
           },
           {
            "bin_start": 183,
            "bin_end": 195,
            "count": 1
           }
          ]
         }
        },
        {
         "name": "_deepnote_index_column",
         "dtype": "object"
        }
       ],
       "rows": [
        {
         "count": "195",
         "_deepnote_index_column": "like"
        },
        {
         "count": "176",
         "_deepnote_index_column": "im"
        },
        {
         "count": "143",
         "_deepnote_index_column": "get"
        },
        {
         "count": "127",
         "_deepnote_index_column": "new"
        },
        {
         "count": "114",
         "_deepnote_index_column": "amp"
        },
        {
         "count": "103",
         "_deepnote_index_column": "go"
        },
        {
         "count": "97",
         "_deepnote_index_column": "dont"
        },
        {
         "count": "97",
         "_deepnote_index_column": "u"
        },
        {
         "count": "89",
         "_deepnote_index_column": "one"
        },
        {
         "count": "75",
         "_deepnote_index_column": "bodi"
        }
       ]
      },
      "text/plain": "      count\nlike    195\nim      176\nget     143\nnew     127\namp     114\ngo      103\ndont     97\nu        97\none      89\nbodi     75",
      "text/html": "<div>\n<style scoped>\n    .dataframe tbody tr th:only-of-type {\n        vertical-align: middle;\n    }\n\n    .dataframe tbody tr th {\n        vertical-align: top;\n    }\n\n    .dataframe thead th {\n        text-align: right;\n    }\n</style>\n<table border=\"1\" class=\"dataframe\">\n  <thead>\n    <tr style=\"text-align: right;\">\n      <th></th>\n      <th>count</th>\n    </tr>\n  </thead>\n  <tbody>\n    <tr>\n      <th>like</th>\n      <td>195</td>\n    </tr>\n    <tr>\n      <th>im</th>\n      <td>176</td>\n    </tr>\n    <tr>\n      <th>get</th>\n      <td>143</td>\n    </tr>\n    <tr>\n      <th>new</th>\n      <td>127</td>\n    </tr>\n    <tr>\n      <th>amp</th>\n      <td>114</td>\n    </tr>\n    <tr>\n      <th>go</th>\n      <td>103</td>\n    </tr>\n    <tr>\n      <th>dont</th>\n      <td>97</td>\n    </tr>\n    <tr>\n      <th>u</th>\n      <td>97</td>\n    </tr>\n    <tr>\n      <th>one</th>\n      <td>89</td>\n    </tr>\n    <tr>\n      <th>bodi</th>\n      <td>75</td>\n    </tr>\n  </tbody>\n</table>\n</div>"
     },
     "metadata": {}
    }
   ],
   "execution_count": null
  },
  {
   "cell_type": "code",
   "source": "#ngramas de tweets metaforicos\nstoplist = stopwords.words('english') + ['though']\nc_vec = CountVectorizer(stop_words=stoplist, ngram_range=(2,3))\n# matrix of ngrams\nngrams = c_vec.fit_transform(train[train['target'] == 0].text) #Sean metaforicos\n# count frequency of ngrams\ncount_values = ngrams.toarray().sum(axis=0)\n# list of ngrams\nvocab = c_vec.vocabulary_\ndf_ngram_meta = pd.DataFrame(sorted([(count_values[i],k) for k,i in vocab.items()], reverse=True)\n            ).rename(columns={0: 'frequency', 1:'bigram/trigram'})\ndf_ngram_meta",
   "metadata": {
    "cell_id": "cf735c8bdd234069b5a54e54719260e5",
    "tags": [],
    "deepnote_to_be_reexecuted": false,
    "source_hash": "504352d9",
    "execution_start": 1662096466268,
    "execution_millis": 1013,
    "deepnote_cell_type": "code",
    "deepnote_cell_height": 793.234375,
    "deepnote_output_heights": [
     595.6875
    ]
   },
   "outputs": [
    {
     "output_type": "execute_result",
     "execution_count": 19,
     "data": {
      "application/vnd.deepnote.dataframe.v3+json": {
       "column_count": 2,
       "row_count": 33337,
       "columns": [
        {
         "name": "frequency",
         "dtype": "int64",
         "stats": {
          "unique_count": 22,
          "nan_count": 0,
          "min": "1",
          "max": "49",
          "histogram": [
           {
            "bin_start": 1,
            "bin_end": 5.8,
            "count": 33118
           },
           {
            "bin_start": 5.8,
            "bin_end": 10.6,
            "count": 135
           },
           {
            "bin_start": 10.6,
            "bin_end": 15.399999999999999,
            "count": 73
           },
           {
            "bin_start": 15.399999999999999,
            "bin_end": 20.2,
            "count": 7
           },
           {
            "bin_start": 20.2,
            "bin_end": 25,
            "count": 3
           },
           {
            "bin_start": 25,
            "bin_end": 29.799999999999997,
            "count": 0
           },
           {
            "bin_start": 29.799999999999997,
            "bin_end": 34.6,
            "count": 0
           },
           {
            "bin_start": 34.6,
            "bin_end": 39.4,
            "count": 0
           },
           {
            "bin_start": 39.4,
            "bin_end": 44.199999999999996,
            "count": 0
           },
           {
            "bin_start": 44.199999999999996,
            "bin_end": 49,
            "count": 1
           }
          ]
         }
        },
        {
         "name": "bigram/trigram",
         "dtype": "object",
         "stats": {
          "unique_count": 33337,
          "nan_count": 0,
          "categories": [
           {
            "name": "bodi bag",
            "count": 1
           },
           {
            "name": "look like",
            "count": 1
           },
           {
            "name": "33335 others",
            "count": 33335
           }
          ]
         }
        },
        {
         "name": "_deepnote_index_column",
         "dtype": "int64"
        }
       ],
       "rows": [
        {
         "frequency": "49",
         "bigram/trigram": "bodi bag",
         "_deepnote_index_column": "0"
        },
        {
         "frequency": "23",
         "bigram/trigram": "look like",
         "_deepnote_index_column": "1"
        },
        {
         "frequency": "23",
         "bigram/trigram": "full read",
         "_deepnote_index_column": "2"
        },
        {
         "frequency": "22",
         "bigram/trigram": "cross bodi",
         "_deepnote_index_column": "3"
        },
        {
         "frequency": "20",
         "bigram/trigram": "like video",
         "_deepnote_index_column": "4"
        },
        {
         "frequency": "19",
         "bigram/trigram": "wan na",
         "_deepnote_index_column": "5"
        },
        {
         "frequency": "17",
         "bigram/trigram": "gon na",
         "_deepnote_index_column": "6"
        },
        {
         "frequency": "17",
         "bigram/trigram": "feel like",
         "_deepnote_index_column": "7"
        },
        {
         "frequency": "17",
         "bigram/trigram": "cross bodi bag",
         "_deepnote_index_column": "8"
        },
        {
         "frequency": "16",
         "bigram/trigram": "emerg servic",
         "_deepnote_index_column": "9"
        }
       ]
      },
      "text/plain": "       frequency     bigram/trigram\n0             49           bodi bag\n1             23          look like\n2             23          full read\n3             22         cross bodi\n4             20         like video\n...          ...                ...\n33332          1       200 block se\n33333          1          200 block\n33334          1        1710 pdx911\n33335          1  12th ave portland\n33336          1           12th ave\n\n[33337 rows x 2 columns]",
      "text/html": "<div>\n<style scoped>\n    .dataframe tbody tr th:only-of-type {\n        vertical-align: middle;\n    }\n\n    .dataframe tbody tr th {\n        vertical-align: top;\n    }\n\n    .dataframe thead th {\n        text-align: right;\n    }\n</style>\n<table border=\"1\" class=\"dataframe\">\n  <thead>\n    <tr style=\"text-align: right;\">\n      <th></th>\n      <th>frequency</th>\n      <th>bigram/trigram</th>\n    </tr>\n  </thead>\n  <tbody>\n    <tr>\n      <th>0</th>\n      <td>49</td>\n      <td>bodi bag</td>\n    </tr>\n    <tr>\n      <th>1</th>\n      <td>23</td>\n      <td>look like</td>\n    </tr>\n    <tr>\n      <th>2</th>\n      <td>23</td>\n      <td>full read</td>\n    </tr>\n    <tr>\n      <th>3</th>\n      <td>22</td>\n      <td>cross bodi</td>\n    </tr>\n    <tr>\n      <th>4</th>\n      <td>20</td>\n      <td>like video</td>\n    </tr>\n    <tr>\n      <th>...</th>\n      <td>...</td>\n      <td>...</td>\n    </tr>\n    <tr>\n      <th>33332</th>\n      <td>1</td>\n      <td>200 block se</td>\n    </tr>\n    <tr>\n      <th>33333</th>\n      <td>1</td>\n      <td>200 block</td>\n    </tr>\n    <tr>\n      <th>33334</th>\n      <td>1</td>\n      <td>1710 pdx911</td>\n    </tr>\n    <tr>\n      <th>33335</th>\n      <td>1</td>\n      <td>12th ave portland</td>\n    </tr>\n    <tr>\n      <th>33336</th>\n      <td>1</td>\n      <td>12th ave</td>\n    </tr>\n  </tbody>\n</table>\n<p>33337 rows × 2 columns</p>\n</div>"
     },
     "metadata": {}
    }
   ],
   "execution_count": null
  },
  {
   "cell_type": "code",
   "source": "#ngramas de tweets con desastres reales\nstoplist = stopwords.words('english') + ['though']\nc_vec = CountVectorizer(stop_words=stoplist, ngram_range=(2,3))\n# matrix of ngrams\nngrams = c_vec.fit_transform(train[train['target'] == 1].text) #Sean Reales\n# count frequency of ngrams\ncount_values = ngrams.toarray().sum(axis=0)\n# list of ngrams\nvocab = c_vec.vocabulary_\ndf_ngram_des = pd.DataFrame(sorted([(count_values[i],k) for k,i in vocab.items()], reverse=True)\n            ).rename(columns={0: 'frequency', 1:'bigram/trigram'})\ndf_ngram_des",
   "metadata": {
    "cell_id": "239e7b2261dd4d209837a47bf515c057",
    "tags": [],
    "deepnote_to_be_reexecuted": false,
    "source_hash": "a8f007d7",
    "execution_start": 1662096467282,
    "execution_millis": 1260,
    "deepnote_cell_type": "code",
    "deepnote_cell_height": 793.234375
   },
   "outputs": [
    {
     "output_type": "execute_result",
     "execution_count": 20,
     "data": {
      "application/vnd.deepnote.dataframe.v3+json": {
       "column_count": 2,
       "row_count": 25105,
       "columns": [
        {
         "name": "frequency",
         "dtype": "int64",
         "stats": {
          "unique_count": 27,
          "nan_count": 0,
          "min": "1",
          "max": "33",
          "histogram": [
           {
            "bin_start": 1,
            "bin_end": 4.2,
            "count": 24649
           },
           {
            "bin_start": 4.2,
            "bin_end": 7.4,
            "count": 233
           },
           {
            "bin_start": 7.4,
            "bin_end": 10.600000000000001,
            "count": 85
           },
           {
            "bin_start": 10.600000000000001,
            "bin_end": 13.8,
            "count": 53
           },
           {
            "bin_start": 13.8,
            "bin_end": 17,
            "count": 31
           },
           {
            "bin_start": 17,
            "bin_end": 20.200000000000003,
            "count": 37
           },
           {
            "bin_start": 20.200000000000003,
            "bin_end": 23.400000000000002,
            "count": 11
           },
           {
            "bin_start": 23.400000000000002,
            "bin_end": 26.6,
            "count": 1
           },
           {
            "bin_start": 26.6,
            "bin_end": 29.8,
            "count": 3
           },
           {
            "bin_start": 29.8,
            "bin_end": 33,
            "count": 2
           }
          ]
         }
        },
        {
         "name": "bigram/trigram",
         "dtype": "object",
         "stats": {
          "unique_count": 25105,
          "nan_count": 0,
          "categories": [
           {
            "name": "train derail",
            "count": 1
           },
           {
            "name": "suicid bomber",
            "count": 1
           },
           {
            "name": "25103 others",
            "count": 25103
           }
          ]
         }
        },
        {
         "name": "_deepnote_index_column",
         "dtype": "int64"
        }
       ],
       "rows": [
        {
         "frequency": "33",
         "bigram/trigram": "train derail",
         "_deepnote_index_column": "0"
        },
        {
         "frequency": "30",
         "bigram/trigram": "suicid bomber",
         "_deepnote_index_column": "1"
        },
        {
         "frequency": "29",
         "bigram/trigram": "mass murder",
         "_deepnote_index_column": "2"
        },
        {
         "frequency": "29",
         "bigram/trigram": "atom bomb",
         "_deepnote_index_column": "3"
        },
        {
         "frequency": "28",
         "bigram/trigram": "burn build",
         "_deepnote_index_column": "4"
        },
        {
         "frequency": "25",
         "bigram/trigram": "oil spill",
         "_deepnote_index_column": "5"
        },
        {
         "frequency": "22",
         "bigram/trigram": "sever thunderstorm",
         "_deepnote_index_column": "6"
        },
        {
         "frequency": "22",
         "bigram/trigram": "confirm mh",
         "_deepnote_index_column": "7"
        },
        {
         "frequency": "21",
         "bigram/trigram": "watch airport get",
         "_deepnote_index_column": "8"
        },
        {
         "frequency": "21",
         "bigram/trigram": "watch airport",
         "_deepnote_index_column": "9"
        }
       ]
      },
      "text/plain": "       frequency    bigram/trigram\n0             33      train derail\n1             30     suicid bomber\n2             29       mass murder\n3             29         atom bomb\n4             28        burn build\n...          ...               ...\n25100          1  4the public fact\n25101          1       4the public\n25102          1  2015 look happen\n25103          1         2015 look\n25104          1       1726 pdx911\n\n[25105 rows x 2 columns]",
      "text/html": "<div>\n<style scoped>\n    .dataframe tbody tr th:only-of-type {\n        vertical-align: middle;\n    }\n\n    .dataframe tbody tr th {\n        vertical-align: top;\n    }\n\n    .dataframe thead th {\n        text-align: right;\n    }\n</style>\n<table border=\"1\" class=\"dataframe\">\n  <thead>\n    <tr style=\"text-align: right;\">\n      <th></th>\n      <th>frequency</th>\n      <th>bigram/trigram</th>\n    </tr>\n  </thead>\n  <tbody>\n    <tr>\n      <th>0</th>\n      <td>33</td>\n      <td>train derail</td>\n    </tr>\n    <tr>\n      <th>1</th>\n      <td>30</td>\n      <td>suicid bomber</td>\n    </tr>\n    <tr>\n      <th>2</th>\n      <td>29</td>\n      <td>mass murder</td>\n    </tr>\n    <tr>\n      <th>3</th>\n      <td>29</td>\n      <td>atom bomb</td>\n    </tr>\n    <tr>\n      <th>4</th>\n      <td>28</td>\n      <td>burn build</td>\n    </tr>\n    <tr>\n      <th>...</th>\n      <td>...</td>\n      <td>...</td>\n    </tr>\n    <tr>\n      <th>25100</th>\n      <td>1</td>\n      <td>4the public fact</td>\n    </tr>\n    <tr>\n      <th>25101</th>\n      <td>1</td>\n      <td>4the public</td>\n    </tr>\n    <tr>\n      <th>25102</th>\n      <td>1</td>\n      <td>2015 look happen</td>\n    </tr>\n    <tr>\n      <th>25103</th>\n      <td>1</td>\n      <td>2015 look</td>\n    </tr>\n    <tr>\n      <th>25104</th>\n      <td>1</td>\n      <td>1726 pdx911</td>\n    </tr>\n  </tbody>\n</table>\n<p>25105 rows × 2 columns</p>\n</div>"
     },
     "metadata": {}
    }
   ],
   "execution_count": null
  },
  {
   "cell_type": "markdown",
   "source": "## Función predictora de tuits",
   "metadata": {
    "is_collapsed": false,
    "cell_id": "daf191b1285c4855b5f1293cccff9bd5",
    "tags": [],
    "formattedRanges": [],
    "deepnote_cell_type": "text-cell-h2"
   }
  },
  {
   "cell_type": "code",
   "source": "tokenizer = AutoTokenizer.from_pretrained('bert-large-uncased')\nbert = TFBertModel.from_pretrained('bert-large-uncased')\n\n",
   "metadata": {
    "cell_id": "4db72e0c78a04bd1a88e15f226b2e67c",
    "tags": [],
    "deepnote_to_be_reexecuted": false,
    "source_hash": "ab63463a",
    "execution_start": 1662096897310,
    "execution_millis": 596,
    "deepnote_cell_type": "code",
    "deepnote_cell_height": 401.34375
   },
   "outputs": [
    {
     "name": "stderr",
     "text": "2022-09-02 05:34:57.686483: W tensorflow/stream_executor/platform/default/dso_loader.cc:64] Could not load dynamic library 'libcuda.so.1'; dlerror: libcuda.so.1: cannot open shared object file: No such file or directory\n2022-09-02 05:34:57.686518: W tensorflow/stream_executor/cuda/cuda_driver.cc:269] failed call to cuInit: UNKNOWN ERROR (303)\n2022-09-02 05:34:57.686544: I tensorflow/stream_executor/cuda/cuda_diagnostics.cc:156] kernel driver does not appear to be running on this host (p-a136f39d-34ff-4fab-95a4-ccd9983de5a7): /proc/driver/nvidia/version does not exist\n2022-09-02 05:34:57.686881: I tensorflow/core/platform/cpu_feature_guard.cc:193] This TensorFlow binary is optimized with oneAPI Deep Neural Network Library (oneDNN) to use the following CPU instructions in performance-critical operations:  AVX2 AVX512F FMA\nTo enable them in other operations, rebuild TensorFlow with the appropriate compiler flags.\n",
     "output_type": "stream"
    },
    {
     "output_type": "error",
     "ename": "KernelInterrupted",
     "evalue": "Execution interrupted by the Jupyter kernel.",
     "traceback": [
      "\u001b[0;31m---------------------------------------------------------------------------\u001b[0m",
      "\u001b[0;31mKernelInterrupted\u001b[0m: Execution interrupted by the Jupyter kernel."
     ]
    }
   ],
   "execution_count": null
  },
  {
   "cell_type": "code",
   "source": "print(\"max len of tweets\",max([len(x.split()) for x in train.text]))\nmax_length = 36\nx_train = tokenizer(\n    text=train.text.tolist(),\n    add_special_tokens=True,\n    max_length=36,\n    truncation=True,\n    padding=True, \n    return_tensors='tf',\n    return_token_type_ids = False,\n    return_attention_mask = True,\n    verbose = True)\n",
   "metadata": {
    "cell_id": "91fb953f41b04a3689205958328be215",
    "tags": [],
    "deepnote_to_be_reexecuted": true,
    "source_hash": "782da5c1",
    "execution_start": 1662095147904,
    "execution_millis": 704,
    "deepnote_cell_type": "code",
    "deepnote_cell_height": 322.4375
   },
   "outputs": [
    {
     "name": "stdout",
     "text": "max len of tweets 23\n",
     "output_type": "stream"
    }
   ],
   "execution_count": null
  },
  {
   "cell_type": "code",
   "source": "x_train['input_ids'].shape\nx_train['attention_mask'].shape\ny_train = train.target.values\ny_train\n",
   "metadata": {
    "cell_id": "c5d2ce8257b3499a9970a0ace1448073",
    "tags": [],
    "deepnote_to_be_reexecuted": true,
    "source_hash": "30a4c0df",
    "execution_start": 1662095235535,
    "execution_millis": 69,
    "deepnote_cell_type": "code",
    "deepnote_cell_height": 184.4375,
    "deepnote_output_heights": [
     20.171875
    ]
   },
   "outputs": [
    {
     "output_type": "execute_result",
     "execution_count": 28,
     "data": {
      "text/plain": "array([1, 0, 1, ..., 0, 0, 0])"
     },
     "metadata": {}
    }
   ],
   "execution_count": null
  },
  {
   "cell_type": "code",
   "source": "max_len = 36\ninput_ids = Input(shape=(max_len,), dtype=tf.int32, name=\"input_ids\")\ninput_mask = Input(shape=(max_len,), dtype=tf.int32, name=\"attention_mask\")\n\n\nembeddings = bert(input_ids,attention_mask = input_mask)[1] #(0 is the last hidden states,1 means pooler_output)\nout = tf.keras.layers.Dropout(0.1)(embeddings)\n\nout = Dense(128, activation='relu')(out)\nout = tf.keras.layers.Dropout(0.1)(out)\nout = Dense(32,activation = 'relu')(out)\n\ny = Dense(1,activation = 'sigmoid')(out)\n    \nmodel = tf.keras.Model(inputs=[input_ids, input_mask], outputs=y)\nmodel.layers[2].trainable = True",
   "metadata": {
    "cell_id": "37d85d077b7c45fa9865b1503d974c8e",
    "tags": [],
    "deepnote_to_be_reexecuted": true,
    "source_hash": "8e48d29b",
    "execution_start": 1662095746427,
    "execution_millis": 4,
    "deepnote_cell_type": "code",
    "deepnote_cell_height": 414.4375
   },
   "outputs": [
    {
     "output_type": "error",
     "ename": "NameError",
     "evalue": "name 'tensorflow' is not defined",
     "traceback": [
      "\u001b[0;31m---------------------------------------------------------------------------\u001b[0m",
      "\u001b[0;31mNameError\u001b[0m                                 Traceback (most recent call last)",
      "Input \u001b[0;32mIn [39]\u001b[0m, in \u001b[0;36m<cell line: 2>\u001b[0;34m()\u001b[0m\n\u001b[1;32m      1\u001b[0m max_len \u001b[38;5;241m=\u001b[39m \u001b[38;5;241m36\u001b[39m\n\u001b[0;32m----> 2\u001b[0m input_ids \u001b[38;5;241m=\u001b[39m Input(shape\u001b[38;5;241m=\u001b[39m(max_len,), dtype\u001b[38;5;241m=\u001b[39m\u001b[43mtensorflow\u001b[49m\u001b[38;5;241m.\u001b[39mint32, name\u001b[38;5;241m=\u001b[39m\u001b[38;5;124m\"\u001b[39m\u001b[38;5;124minput_ids\u001b[39m\u001b[38;5;124m\"\u001b[39m)\n\u001b[1;32m      3\u001b[0m input_mask \u001b[38;5;241m=\u001b[39m Input(shape\u001b[38;5;241m=\u001b[39m(max_len,), dtype\u001b[38;5;241m=\u001b[39mtensorflow\u001b[38;5;241m.\u001b[39mint32, name\u001b[38;5;241m=\u001b[39m\u001b[38;5;124m\"\u001b[39m\u001b[38;5;124mattention_mask\u001b[39m\u001b[38;5;124m\"\u001b[39m)\n\u001b[1;32m      4\u001b[0m \u001b[38;5;66;03m# embeddings = dbert_model(input_ids,attention_mask = input_mask)[0]\u001b[39;00m\n",
      "\u001b[0;31mNameError\u001b[0m: name 'tensorflow' is not defined"
     ]
    }
   ],
   "execution_count": null
  },
  {
   "cell_type": "code",
   "source": "model.summary()",
   "metadata": {
    "cell_id": "a66233bff13a42c7981ce5b70745d89a",
    "tags": [],
    "deepnote_to_be_reexecuted": true,
    "source_hash": "4e6a3b95",
    "deepnote_cell_type": "code",
    "deepnote_cell_height": 61.15625
   },
   "outputs": [],
   "execution_count": null
  },
  {
   "cell_type": "code",
   "source": "tokenizer = AutoTokenizer.from_pretrained('bert-large-uncased')\nMax_length = 42\ndef encode(text, tokenizer, max_len=512):\n    \n    all_tokens = []\n    all_masks = []\n    all_segments = []\n    \n    text = tokenizer.tokenize(str(text))  \n    text = text[:max_len-2]\n    input_sequence = [\"[CLS]\"] + text + [\"[SEP]\"]\n    pad_len = max_len - len(input_sequence)\n        \n    tokens = tokenizer.convert_tokens_to_ids(input_sequence)\n    tokens += [0] * pad_len\n    pad_masks = [1] * len(input_sequence) + [0] * pad_len\n    segment_ids = [0] * max_len\n    all_tokens.append(tokens)\n    all_masks.append(pad_masks)\n    all_segments.append(segment_ids)\n    \n    return np.array(all_tokens), np.array(all_masks), np.array(all_segments)\n\n\nResultDict={1:'Disaster', 0:'Non Disaster'}   \ndef predict_review(input_text):\n    input_seq = encode(input_text, tokenizer, max_len=Max_length)\n    predict_result = model.predict(input_seq)\n    i = predict_result[0][0].round().astype('int')\n    print('Input:', input_text) \n    pre_score = round(float(predict_result[0][0])*100, 4)\n    print(f'Output: {ResultDict[i]} ({pre_score}%)\\n')",
   "metadata": {
    "cell_id": "5baeb6ac14ab4288b0121cb3572fc537",
    "tags": [],
    "deepnote_to_be_reexecuted": true,
    "source_hash": "5ce6dbad",
    "execution_start": 1662094030343,
    "execution_millis": 303,
    "deepnote_cell_type": "code",
    "deepnote_cell_height": 634.15625
   },
   "outputs": [],
   "execution_count": null
  },
  {
   "cell_type": "code",
   "source": "predict_review('''Fire shuts down part of NJ Turnpike 96''')\n",
   "metadata": {
    "cell_id": "d231bec69c644cadafcac651a07e485e",
    "tags": [],
    "deepnote_to_be_reexecuted": true,
    "source_hash": "d87b3c5b",
    "execution_start": 1662094030675,
    "execution_millis": 922,
    "deepnote_cell_type": "code",
    "deepnote_cell_height": 157.4375
   },
   "outputs": [
    {
     "output_type": "error",
     "ename": "NameError",
     "evalue": "name 'model' is not defined",
     "traceback": [
      "\u001b[0;31m---------------------------------------------------------------------------\u001b[0m",
      "\u001b[0;31mNameError\u001b[0m                                 Traceback (most recent call last)",
      "Input \u001b[0;32mIn [21]\u001b[0m, in \u001b[0;36m<cell line: 1>\u001b[0;34m()\u001b[0m\n\u001b[0;32m----> 1\u001b[0m \u001b[43mpredict_review\u001b[49m\u001b[43m(\u001b[49m\u001b[38;5;124;43m'''\u001b[39;49m\u001b[38;5;124;43mFire shuts down part of NJ Turnpike 96\u001b[39;49m\u001b[38;5;124;43m'''\u001b[39;49m\u001b[43m)\u001b[49m\n",
      "Input \u001b[0;32mIn [20]\u001b[0m, in \u001b[0;36mpredict_review\u001b[0;34m(input_text)\u001b[0m\n\u001b[1;32m     26\u001b[0m \u001b[38;5;28;01mdef\u001b[39;00m \u001b[38;5;21mpredict_review\u001b[39m(input_text):\n\u001b[1;32m     27\u001b[0m     input_seq \u001b[38;5;241m=\u001b[39m encode(input_text, tokenizer, max_len\u001b[38;5;241m=\u001b[39mMax_length)\n\u001b[0;32m---> 28\u001b[0m     predict_result \u001b[38;5;241m=\u001b[39m \u001b[43mmodel\u001b[49m\u001b[38;5;241m.\u001b[39mpredict(input_seq)\n\u001b[1;32m     29\u001b[0m     i \u001b[38;5;241m=\u001b[39m predict_result[\u001b[38;5;241m0\u001b[39m][\u001b[38;5;241m0\u001b[39m]\u001b[38;5;241m.\u001b[39mround()\u001b[38;5;241m.\u001b[39mastype(\u001b[38;5;124m'\u001b[39m\u001b[38;5;124mint\u001b[39m\u001b[38;5;124m'\u001b[39m)\n\u001b[1;32m     30\u001b[0m     \u001b[38;5;28mprint\u001b[39m(\u001b[38;5;124m'\u001b[39m\u001b[38;5;124mInput:\u001b[39m\u001b[38;5;124m'\u001b[39m, input_text) \n",
      "\u001b[0;31mNameError\u001b[0m: name 'model' is not defined"
     ]
    }
   ],
   "execution_count": null
  },
  {
   "cell_type": "code",
   "source": "#SPLITTING THE TRAINING DATASET INTO TRAIN AND TEST\nX_train, X_test, y_train, y_test = train_test_split(train[\"text\"],train[\"target\"],test_size=0.2,shuffle=True)\n#Word2Vec\n# Word2Vec runs on tokenized sentences\nX_train_tok= [nltk.word_tokenize(i) for i in X_train]  \nX_test_tok= [nltk.word_tokenize(i) for i in X_test]",
   "metadata": {
    "cell_id": "ebae8fc17e3245a98467cc9c0fa78930",
    "tags": [],
    "deepnote_to_be_reexecuted": false,
    "source_hash": "3b3f0abf",
    "execution_start": 1662097021604,
    "execution_millis": 586,
    "deepnote_cell_type": "code",
    "deepnote_cell_height": 234.4375
   },
   "outputs": [
    {
     "output_type": "error",
     "ename": "NameError",
     "evalue": "name 'train_test_split' is not defined",
     "traceback": [
      "\u001b[0;31m---------------------------------------------------------------------------\u001b[0m",
      "\u001b[0;31mNameError\u001b[0m                                 Traceback (most recent call last)",
      "Input \u001b[0;32mIn [1]\u001b[0m, in \u001b[0;36m<cell line: 2>\u001b[0;34m()\u001b[0m\n\u001b[1;32m      1\u001b[0m \u001b[38;5;66;03m#SPLITTING THE TRAINING DATASET INTO TRAIN AND TEST\u001b[39;00m\n\u001b[0;32m----> 2\u001b[0m X_train, X_test, y_train, y_test \u001b[38;5;241m=\u001b[39m \u001b[43mtrain_test_split\u001b[49m(train[\u001b[38;5;124m\"\u001b[39m\u001b[38;5;124mtext\u001b[39m\u001b[38;5;124m\"\u001b[39m],train[\u001b[38;5;124m\"\u001b[39m\u001b[38;5;124mtarget\u001b[39m\u001b[38;5;124m\"\u001b[39m],test_size\u001b[38;5;241m=\u001b[39m\u001b[38;5;241m0.2\u001b[39m,shuffle\u001b[38;5;241m=\u001b[39m\u001b[38;5;28;01mTrue\u001b[39;00m)\n\u001b[1;32m      3\u001b[0m \u001b[38;5;66;03m#Word2Vec\u001b[39;00m\n\u001b[1;32m      4\u001b[0m \u001b[38;5;66;03m# Word2Vec runs on tokenized sentences\u001b[39;00m\n\u001b[1;32m      5\u001b[0m X_train_tok\u001b[38;5;241m=\u001b[39m [nltk\u001b[38;5;241m.\u001b[39mword_tokenize(i) \u001b[38;5;28;01mfor\u001b[39;00m i \u001b[38;5;129;01min\u001b[39;00m X_train]  \n",
      "\u001b[0;31mNameError\u001b[0m: name 'train_test_split' is not defined"
     ]
    }
   ],
   "execution_count": 1
  },
  {
   "cell_type": "code",
   "source": "#Tf-Idf\ntfidf_vectorizer = TfidfVectorizer(use_idf=True)\nX_train_vectors_tfidf = tfidf_vectorizer.fit_transform(X_train) \nX_test_vectors_tfidf = tfidf_vectorizer.transform(X_test)\n\nclass MeanEmbeddingVectorizer(object):\n    def __init__(self, word2vec):\n        self.word2vec = word2vec\n        self.dim = len(next(iter(word2vec.values())))\ndef fit(self, X, y):\n        return self\ndef transform(self, X):\n        return np.array([\n            np.mean([self.word2vec[w] for w in words if w in self.word2vec]\n                    or [np.zeros(self.dim)], axis=0)\n            for words in X\n        ])\n\nw2v = dict(zip(model.wv.index_to_key, model.wv.vectors)\ntrain['clean_text_tok']=[nltk.word_tokenize(i) for i in train['text']]\nmodel = Word2Vec(train['clean_text_tok'],min_count=1)     \nmodelw = MeanEmbeddingVectorizer(w2v)\n\nX_train_vectors_w2v = modelw.transform(X_train_tok)\nX_val_vectors_w2v = modelw.transform(X_test_tok)",
   "metadata": {
    "cell_id": "615c9fa47e644b468b07ab1bdf9d00e5",
    "tags": [],
    "deepnote_to_be_reexecuted": true,
    "source_hash": "eba44540",
    "execution_start": 1662095478253,
    "execution_millis": 227,
    "deepnote_cell_type": "code",
    "deepnote_cell_height": 856,
    "deepnote_output_heights": [
     269.5625
    ]
   },
   "outputs": [
    {
     "output_type": "error",
     "ename": "NameError",
     "evalue": "name 'model' is not defined",
     "traceback": [
      "\u001b[0;31m---------------------------------------------------------------------------\u001b[0m",
      "\u001b[0;31mNameError\u001b[0m                                 Traceback (most recent call last)",
      "Input \u001b[0;32mIn [34]\u001b[0m, in \u001b[0;36m<cell line: 18>\u001b[0;34m()\u001b[0m\n\u001b[1;32m     12\u001b[0m \u001b[38;5;28;01mdef\u001b[39;00m \u001b[38;5;21mtransform\u001b[39m(\u001b[38;5;28mself\u001b[39m, X):\n\u001b[1;32m     13\u001b[0m         \u001b[38;5;28;01mreturn\u001b[39;00m np\u001b[38;5;241m.\u001b[39marray([\n\u001b[1;32m     14\u001b[0m             np\u001b[38;5;241m.\u001b[39mmean([\u001b[38;5;28mself\u001b[39m\u001b[38;5;241m.\u001b[39mword2vec[w] \u001b[38;5;28;01mfor\u001b[39;00m w \u001b[38;5;129;01min\u001b[39;00m words \u001b[38;5;28;01mif\u001b[39;00m w \u001b[38;5;129;01min\u001b[39;00m \u001b[38;5;28mself\u001b[39m\u001b[38;5;241m.\u001b[39mword2vec]\n\u001b[1;32m     15\u001b[0m                     \u001b[38;5;129;01mor\u001b[39;00m [np\u001b[38;5;241m.\u001b[39mzeros(\u001b[38;5;28mself\u001b[39m\u001b[38;5;241m.\u001b[39mdim)], axis\u001b[38;5;241m=\u001b[39m\u001b[38;5;241m0\u001b[39m)\n\u001b[1;32m     16\u001b[0m             \u001b[38;5;28;01mfor\u001b[39;00m words \u001b[38;5;129;01min\u001b[39;00m X\n\u001b[1;32m     17\u001b[0m         ])\n\u001b[0;32m---> 18\u001b[0m w2v \u001b[38;5;241m=\u001b[39m \u001b[38;5;28mdict\u001b[39m(\u001b[38;5;28mzip\u001b[39m(\u001b[43mmodel\u001b[49m\u001b[38;5;241m.\u001b[39mwv\u001b[38;5;241m.\u001b[39mindex2word, model\u001b[38;5;241m.\u001b[39mwv\u001b[38;5;241m.\u001b[39msyn0)) \n\u001b[1;32m     19\u001b[0m train[\u001b[38;5;124m'\u001b[39m\u001b[38;5;124mclean_text_tok\u001b[39m\u001b[38;5;124m'\u001b[39m]\u001b[38;5;241m=\u001b[39m[nltk\u001b[38;5;241m.\u001b[39mword_tokenize(i) \u001b[38;5;28;01mfor\u001b[39;00m i \u001b[38;5;129;01min\u001b[39;00m train[\u001b[38;5;124m'\u001b[39m\u001b[38;5;124mtext\u001b[39m\u001b[38;5;124m'\u001b[39m]]\n\u001b[1;32m     20\u001b[0m model \u001b[38;5;241m=\u001b[39m Word2Vec(train[\u001b[38;5;124m'\u001b[39m\u001b[38;5;124mclean_text_tok\u001b[39m\u001b[38;5;124m'\u001b[39m],min_count\u001b[38;5;241m=\u001b[39m\u001b[38;5;241m1\u001b[39m)     \n",
      "\u001b[0;31mNameError\u001b[0m: name 'model' is not defined"
     ]
    }
   ],
   "execution_count": null
  },
  {
   "cell_type": "code",
   "source": "",
   "metadata": {
    "cell_id": "0c74581d4edf45a69dcf33c519b2013d",
    "tags": [],
    "deepnote_to_be_reexecuted": true,
    "source_hash": "b623e53d",
    "deepnote_cell_type": "code",
    "deepnote_cell_height": 61.15625
   },
   "outputs": [],
   "execution_count": null
  },
  {
   "cell_type": "markdown",
   "source": "<a style='text-decoration:none;line-height:16px;display:flex;color:#5B5B62;padding:10px;justify-content:end;' href='https://deepnote.com?utm_source=created-in-deepnote-cell&projectId=a136f39d-34ff-4fab-95a4-ccd9983de5a7' target=\"_blank\">\n<img alt='Created in deepnote.com' style='display:inline;max-height:16px;margin:0px;margin-right:7.5px;' src='data:image/svg+xml;base64,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' > </img>\nCreated in <span style='font-weight:600;margin-left:4px;'>Deepnote</span></a>",
   "metadata": {
    "tags": [],
    "created_in_deepnote_cell": true,
    "deepnote_cell_type": "markdown"
   }
  }
 ],
 "nbformat": 4,
 "nbformat_minor": 2,
 "metadata": {
  "orig_nbformat": 2,
  "deepnote": {},
  "deepnote_notebook_id": "11f2bb18-28fd-4c59-9f07-97b9c98522c0",
  "deepnote_execution_queue": []
 }
}